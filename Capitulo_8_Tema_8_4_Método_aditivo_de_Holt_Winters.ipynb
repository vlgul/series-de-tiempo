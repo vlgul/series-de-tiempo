{
  "nbformat": 4,
  "nbformat_minor": 0,
  "metadata": {
    "colab": {
      "provenance": [],
      "authorship_tag": "ABX9TyNZU7bKhjpjIzOubZ3wjmUx",
      "include_colab_link": true
    },
    "kernelspec": {
      "name": "ir",
      "display_name": "R"
    },
    "language_info": {
      "name": "R"
    }
  },
  "cells": [
    {
      "cell_type": "markdown",
      "metadata": {
        "id": "view-in-github",
        "colab_type": "text"
      },
      "source": [
        "<a href=\"https://colab.research.google.com/github/vlgul/series-de-tiempo/blob/main/Capitulo_8_Tema_8_4_M%C3%A9todo_aditivo_de_Holt_Winters.ipynb\" target=\"_parent\"><img src=\"https://colab.research.google.com/assets/colab-badge.svg\" alt=\"Open In Colab\"/></a>"
      ]
    },
    {
      "cell_type": "markdown",
      "source": [
        "## **Capitulo 8:  Suavización exponencial** ###\n",
        "\n",
        "### 8.3. Método aditivo de Holt-Winters ### \n",
        " \n",
        " Se presentan las ventas trimestrales de los cuatro años anteriores de una tienda de bicicletas en Suiza. La gráfica sugiere que las ventas de la bicicleta muestran una demanda lineal y una variación constante (aditiva). Por lo tanto, aplicamos el método de Holt-Winters a los datos para dar con los pronósticos de las ventas futuras de la bicicleta de montaña.\n",
        "\n",
        " Variables:\n",
        " Lt: Nivel de estimación\n",
        " Bt: Tasa de crecimiento.\n",
        " Snt: Factor estacional.\n",
        " Pt: Pronóstico hecho en el último periodo. \n",
        " Et: Error de pronóstico\n",
        " Et2: Error cuadrado del pronóstico\n",
        " Yest: Estimaciónes de regresión \n",
        " St: Información sin tendencia\n",
        " Sn_3, Sn_2, Sn_1, S0: Promedio de factores estacionales con L=4 factores.\n",
        " Mn: Vector donde se almacenan los valores de los factores estacionales promedio.\n"
      ],
      "metadata": {
        "id": "QxMiptmLAzhK"
      }
    },
    {
      "cell_type": "code",
      "execution_count": 1,
      "metadata": {
        "id": "Hjzqj1NnAnlF"
      },
      "outputs": [],
      "source": [
        "n<-17\n",
        "p<-5\n",
        "Lt<-double(n)\n",
        "Bt<-double(n)\n",
        "Et<-double(n)\n",
        "Et2<-double(n)\n",
        "Pt<-double(n)\n",
        "St<-double(n)\n",
        "Snt<-double(n)\n",
        "Mn<-double(n)\n",
        "Yest<-double(n)"
      ]
    },
    {
      "cell_type": "markdown",
      "source": [
        "Agregar datos de ventas de bicicletas de montaña del periodo 0 al 16"
      ],
      "metadata": {
        "id": "D86vLklaDJp9"
      }
    },
    {
      "cell_type": "code",
      "source": [
        "t<-seq(0,16)\n",
        "Yt<-c(0,10,31,43,16,11,33,45,17,14,36,50,21,19,41,55,25)"
      ],
      "metadata": {
        "id": "or21YpMcDMTj"
      },
      "execution_count": 2,
      "outputs": []
    },
    {
      "cell_type": "markdown",
      "source": [
        "Ajustar una recta de tendencia de minimos cuadrados a la mitad de los datos totales n=16 y extraer valores para estimación inicial de los coeficientes para asignar a L0 y B0."
      ],
      "metadata": {
        "id": "dOMnIqZHDOh2"
      }
    },
    {
      "cell_type": "code",
      "source": [
        "f <- lm(Yt[2:17] ~ t[2:17])\n",
        "Reg<-summary(f)\n",
        "L0<-Reg$coefficients[1]\n",
        "B0<-Reg$coefficients[2]"
      ],
      "metadata": {
        "id": "bqQ3pMSPDWAO"
      },
      "execution_count": 3,
      "outputs": []
    },
    {
      "cell_type": "markdown",
      "source": [
        "Agregar valor inicial de coeficientes al nivel, la tasa de crecimiento y definir constantes de suavizacion alfa=0.2, gamma=0.1 y delta=0.1"
      ],
      "metadata": {
        "id": "84J_NrEYDcIL"
      }
    },
    {
      "cell_type": "code",
      "source": [
        "Lt[1]<-L0\n",
        "Bt[1]<-B0\n",
        "alfa<-0.2\n",
        "gamma<-0.1 \n",
        "delta<-0.1"
      ],
      "metadata": {
        "id": "22k8squnDhEo"
      },
      "execution_count": 4,
      "outputs": []
    },
    {
      "cell_type": "markdown",
      "source": [
        "Calcular las estimaciones de regresión sin tendencia"
      ],
      "metadata": {
        "id": "C7HaxhAGDjtO"
      }
    },
    {
      "cell_type": "code",
      "source": [
        "for (i in 2:n){\n",
        "  Yest[i]<-Lt[1]+Bt[1]*(i-1)\n",
        "  St[i]<-Yt[i]-Yest[i]\n",
        "}"
      ],
      "metadata": {
        "id": "hB5X04JbDnaZ"
      },
      "execution_count": 5,
      "outputs": []
    },
    {
      "cell_type": "markdown",
      "source": [
        "Calcular Factor estacional para L = 4, Sn_3, Sn_2, Sn_1, Sn0 y guardar valores en el vector Mn que almacene la información replicada para el cálculo de Pt."
      ],
      "metadata": {
        "id": "NDI1CRAMDpI2"
      }
    },
    {
      "cell_type": "code",
      "source": [
        "Sn_3<-((Yt[2]-Yest[2])+(Yt[6]-Yest[6])+(Yt[10]-Yest[10])+(Yt[14]-Yest[14]))/4\n",
        "Sn_2<-((Yt[3]-Yest[3])+(Yt[7]-Yest[7])+(Yt[11]-Yest[11])+(Yt[15]-Yest[15]))/4\n",
        "Sn_1<-((Yt[4]-Yest[4])+(Yt[8]-Yest[8])+(Yt[12]-Yest[12])+(Yt[16]-Yest[16]))/4\n",
        "S0<-((Yt[5]-Yest[5])+(Yt[9]-Yest[9])+(Yt[13]-Yest[13])+(Yt[17]-Yest[17]))/4\n",
        "Mn[seq (1,n,by=4)]<-Sn_3\n",
        "Mn[seq (2,n,by=4)]<-Sn_2\n",
        "Mn[seq (3,n,by=4)]<-Sn_1\n",
        "Mn[seq (4,n,by=4)]<-S0\n",
        "Snt[1]<-S0"
      ],
      "metadata": {
        "id": "a9YGcFP0DwE8"
      },
      "execution_count": 6,
      "outputs": []
    },
    {
      "cell_type": "markdown",
      "source": [
        "Generar el cálculo de datos respecto a las variables Lt, Bt, y Snt, para t>2, con los errores cuadráticos."
      ],
      "metadata": {
        "id": "jP0YKegqD1SW"
      }
    },
    {
      "cell_type": "code",
      "source": [
        "for (i in 2:n){\n",
        "  Pt[i]<-Lt[(i-1)]+Bt[(i-1)]+Mn[i-1]\n",
        "  Lt[i]<-Lt[(i-1)]+Bt[(i-1)]+(alfa*(Yt[i]- Pt[i]))\n",
        "  Bt[i]<-Bt[(i-1)]+(alfa*gamma)*(Yt[i]-Pt[i])\n",
        "  Snt[i]<-Mn[i-1]+((1-alfa)*delta*(Yt[(i)]-Pt[i]))\n",
        "  Et[i]<-Yt[i]-Pt[i]\n",
        "  Et2[i]<-Et[i]^2\n",
        "}"
      ],
      "metadata": {
        "id": "RN_ISA4OD6Hl"
      },
      "execution_count": 7,
      "outputs": []
    },
    {
      "cell_type": "markdown",
      "source": [
        "Visualizar los valores resultantes en formato de tabla de Fig. 8.9"
      ],
      "metadata": {
        "id": "3OVGvphSD8Yj"
      }
    },
    {
      "cell_type": "code",
      "source": [
        "Bicicletas<-data.frame(t,Yt,Lt,Bt,Snt,Pt,Et,Et2,Yest,St,Mn)\n",
        "Bicicletas"
      ],
      "metadata": {
        "colab": {
          "base_uri": "https://localhost:8080/",
          "height": 631
        },
        "id": "5KbInIaEEACC",
        "outputId": "10371bb7-bd71-4171-8512-8b7a5b844d03"
      },
      "execution_count": 8,
      "outputs": [
        {
          "output_type": "display_data",
          "data": {
            "text/html": [
              "<table class=\"dataframe\">\n",
              "<caption>A data.frame: 17 × 11</caption>\n",
              "<thead>\n",
              "\t<tr><th scope=col>t</th><th scope=col>Yt</th><th scope=col>Lt</th><th scope=col>Bt</th><th scope=col>Snt</th><th scope=col>Pt</th><th scope=col>Et</th><th scope=col>Et2</th><th scope=col>Yest</th><th scope=col>St</th><th scope=col>Mn</th></tr>\n",
              "\t<tr><th scope=col>&lt;int&gt;</th><th scope=col>&lt;dbl&gt;</th><th scope=col>&lt;dbl&gt;</th><th scope=col>&lt;dbl&gt;</th><th scope=col>&lt;dbl&gt;</th><th scope=col>&lt;dbl&gt;</th><th scope=col>&lt;dbl&gt;</th><th scope=col>&lt;dbl&gt;</th><th scope=col>&lt;dbl&gt;</th><th scope=col>&lt;dbl&gt;</th><th scope=col>&lt;dbl&gt;</th></tr>\n",
              "</thead>\n",
              "<tbody>\n",
              "\t<tr><td> 0</td><td> 0</td><td>20.85000</td><td>0.9808824</td><td>-10.908824</td><td> 0.000000</td><td> 0.0000000</td><td>0.00000000</td><td> 0.00000</td><td>  0.000000</td><td>-14.216176</td></tr>\n",
              "\t<tr><td> 1</td><td>10</td><td>22.30794</td><td>1.0285882</td><td>-14.025353</td><td> 7.614706</td><td> 2.3852941</td><td>5.68962803</td><td>21.83088</td><td>-11.830882</td><td>  6.552941</td></tr>\n",
              "\t<tr><td> 2</td><td>31</td><td>23.55864</td><td>1.0507988</td><td>  6.641784</td><td>29.889471</td><td> 1.1105294</td><td>1.23327557</td><td>22.81176</td><td>  8.188235</td><td> 18.572059</td></tr>\n",
              "\t<tr><td> 3</td><td>43</td><td>24.57314</td><td>1.0471690</td><td> 18.557539</td><td>43.181493</td><td>-0.1814929</td><td>0.03293969</td><td>23.79265</td><td> 19.207353</td><td>-10.908824</td></tr>\n",
              "\t<tr><td> 4</td><td>16</td><td>25.87801</td><td>1.0729393</td><td>-10.805742</td><td>14.711481</td><td> 1.2885190</td><td>1.66028130</td><td>24.77353</td><td> -8.773529</td><td>-14.216176</td></tr>\n",
              "\t<tr><td> 5</td><td>11</td><td>26.60399</td><td>1.0382439</td><td>-14.354958</td><td>12.734771</td><td>-1.7347712</td><td>3.00943103</td><td>25.75441</td><td>-14.754412</td><td>  6.552941</td></tr>\n",
              "\t<tr><td> 6</td><td>33</td><td>27.40320</td><td>1.0143404</td><td>  6.457327</td><td>34.195179</td><td>-1.1951785</td><td>1.42845167</td><td>26.73529</td><td>  6.264706</td><td> 18.572059</td></tr>\n",
              "\t<tr><td> 7</td><td>45</td><td>28.01962</td><td>0.9745483</td><td> 18.412891</td><td>46.989601</td><td>-1.9896008</td><td>3.95851137</td><td>27.71618</td><td> 17.283824</td><td>-10.908824</td></tr>\n",
              "\t<tr><td> 8</td><td>17</td><td>28.77710</td><td>0.9528414</td><td>-10.995651</td><td>18.085347</td><td>-1.0853466</td><td>1.17797730</td><td>28.69706</td><td>-11.697059</td><td>-14.216176</td></tr>\n",
              "\t<tr><td> 9</td><td>14</td><td>29.42719</td><td>0.9225661</td><td>-14.337278</td><td>15.513766</td><td>-1.5137658</td><td>2.29148679</td><td>29.67794</td><td>-15.677941</td><td>  6.552941</td></tr>\n",
              "\t<tr><td>10</td><td>36</td><td>30.16922</td><td>0.9045122</td><td>  6.480725</td><td>36.902696</td><td>-0.9026963</td><td>0.81486069</td><td>30.65882</td><td>  5.341176</td><td> 18.572059</td></tr>\n",
              "\t<tr><td>11</td><td>50</td><td>31.14457</td><td>0.9115964</td><td> 18.600396</td><td>49.645787</td><td> 0.3542131</td><td>0.12546693</td><td>31.63971</td><td> 18.360294</td><td>-10.908824</td></tr>\n",
              "\t<tr><td>12</td><td>21</td><td>32.02670</td><td>0.9086496</td><td>-10.920611</td><td>21.147344</td><td>-0.1473436</td><td>0.02171013</td><td>32.62059</td><td>-11.620588</td><td>-14.216176</td></tr>\n",
              "\t<tr><td>13</td><td>19</td><td>32.99151</td><td>0.9142661</td><td>-14.193710</td><td>18.719171</td><td> 0.2808285</td><td>0.07886466</td><td>33.60147</td><td>-14.601471</td><td>  6.552941</td></tr>\n",
              "\t<tr><td>14</td><td>41</td><td>34.01404</td><td>0.9250917</td><td>  6.596244</td><td>40.458721</td><td> 0.5412791</td><td>0.29298301</td><td>34.58235</td><td>  6.417647</td><td> 18.572059</td></tr>\n",
              "\t<tr><td>15</td><td>55</td><td>35.23689</td><td>0.9548680</td><td> 18.691164</td><td>53.511186</td><td> 1.4888139</td><td>2.21656680</td><td>35.56324</td><td> 19.436765</td><td>-10.908824</td></tr>\n",
              "\t<tr><td>16</td><td>25</td><td>36.13517</td><td>0.9492093</td><td>-10.931458</td><td>25.282935</td><td>-0.2829345</td><td>0.08005194</td><td>36.54412</td><td>-11.544118</td><td>-14.216176</td></tr>\n",
              "</tbody>\n",
              "</table>\n"
            ],
            "text/markdown": "\nA data.frame: 17 × 11\n\n| t &lt;int&gt; | Yt &lt;dbl&gt; | Lt &lt;dbl&gt; | Bt &lt;dbl&gt; | Snt &lt;dbl&gt; | Pt &lt;dbl&gt; | Et &lt;dbl&gt; | Et2 &lt;dbl&gt; | Yest &lt;dbl&gt; | St &lt;dbl&gt; | Mn &lt;dbl&gt; |\n|---|---|---|---|---|---|---|---|---|---|---|\n|  0 |  0 | 20.85000 | 0.9808824 | -10.908824 |  0.000000 |  0.0000000 | 0.00000000 |  0.00000 |   0.000000 | -14.216176 |\n|  1 | 10 | 22.30794 | 1.0285882 | -14.025353 |  7.614706 |  2.3852941 | 5.68962803 | 21.83088 | -11.830882 |   6.552941 |\n|  2 | 31 | 23.55864 | 1.0507988 |   6.641784 | 29.889471 |  1.1105294 | 1.23327557 | 22.81176 |   8.188235 |  18.572059 |\n|  3 | 43 | 24.57314 | 1.0471690 |  18.557539 | 43.181493 | -0.1814929 | 0.03293969 | 23.79265 |  19.207353 | -10.908824 |\n|  4 | 16 | 25.87801 | 1.0729393 | -10.805742 | 14.711481 |  1.2885190 | 1.66028130 | 24.77353 |  -8.773529 | -14.216176 |\n|  5 | 11 | 26.60399 | 1.0382439 | -14.354958 | 12.734771 | -1.7347712 | 3.00943103 | 25.75441 | -14.754412 |   6.552941 |\n|  6 | 33 | 27.40320 | 1.0143404 |   6.457327 | 34.195179 | -1.1951785 | 1.42845167 | 26.73529 |   6.264706 |  18.572059 |\n|  7 | 45 | 28.01962 | 0.9745483 |  18.412891 | 46.989601 | -1.9896008 | 3.95851137 | 27.71618 |  17.283824 | -10.908824 |\n|  8 | 17 | 28.77710 | 0.9528414 | -10.995651 | 18.085347 | -1.0853466 | 1.17797730 | 28.69706 | -11.697059 | -14.216176 |\n|  9 | 14 | 29.42719 | 0.9225661 | -14.337278 | 15.513766 | -1.5137658 | 2.29148679 | 29.67794 | -15.677941 |   6.552941 |\n| 10 | 36 | 30.16922 | 0.9045122 |   6.480725 | 36.902696 | -0.9026963 | 0.81486069 | 30.65882 |   5.341176 |  18.572059 |\n| 11 | 50 | 31.14457 | 0.9115964 |  18.600396 | 49.645787 |  0.3542131 | 0.12546693 | 31.63971 |  18.360294 | -10.908824 |\n| 12 | 21 | 32.02670 | 0.9086496 | -10.920611 | 21.147344 | -0.1473436 | 0.02171013 | 32.62059 | -11.620588 | -14.216176 |\n| 13 | 19 | 32.99151 | 0.9142661 | -14.193710 | 18.719171 |  0.2808285 | 0.07886466 | 33.60147 | -14.601471 |   6.552941 |\n| 14 | 41 | 34.01404 | 0.9250917 |   6.596244 | 40.458721 |  0.5412791 | 0.29298301 | 34.58235 |   6.417647 |  18.572059 |\n| 15 | 55 | 35.23689 | 0.9548680 |  18.691164 | 53.511186 |  1.4888139 | 2.21656680 | 35.56324 |  19.436765 | -10.908824 |\n| 16 | 25 | 36.13517 | 0.9492093 | -10.931458 | 25.282935 | -0.2829345 | 0.08005194 | 36.54412 | -11.544118 | -14.216176 |\n\n",
            "text/latex": "A data.frame: 17 × 11\n\\begin{tabular}{lllllllllll}\n t & Yt & Lt & Bt & Snt & Pt & Et & Et2 & Yest & St & Mn\\\\\n <int> & <dbl> & <dbl> & <dbl> & <dbl> & <dbl> & <dbl> & <dbl> & <dbl> & <dbl> & <dbl>\\\\\n\\hline\n\t  0 &  0 & 20.85000 & 0.9808824 & -10.908824 &  0.000000 &  0.0000000 & 0.00000000 &  0.00000 &   0.000000 & -14.216176\\\\\n\t  1 & 10 & 22.30794 & 1.0285882 & -14.025353 &  7.614706 &  2.3852941 & 5.68962803 & 21.83088 & -11.830882 &   6.552941\\\\\n\t  2 & 31 & 23.55864 & 1.0507988 &   6.641784 & 29.889471 &  1.1105294 & 1.23327557 & 22.81176 &   8.188235 &  18.572059\\\\\n\t  3 & 43 & 24.57314 & 1.0471690 &  18.557539 & 43.181493 & -0.1814929 & 0.03293969 & 23.79265 &  19.207353 & -10.908824\\\\\n\t  4 & 16 & 25.87801 & 1.0729393 & -10.805742 & 14.711481 &  1.2885190 & 1.66028130 & 24.77353 &  -8.773529 & -14.216176\\\\\n\t  5 & 11 & 26.60399 & 1.0382439 & -14.354958 & 12.734771 & -1.7347712 & 3.00943103 & 25.75441 & -14.754412 &   6.552941\\\\\n\t  6 & 33 & 27.40320 & 1.0143404 &   6.457327 & 34.195179 & -1.1951785 & 1.42845167 & 26.73529 &   6.264706 &  18.572059\\\\\n\t  7 & 45 & 28.01962 & 0.9745483 &  18.412891 & 46.989601 & -1.9896008 & 3.95851137 & 27.71618 &  17.283824 & -10.908824\\\\\n\t  8 & 17 & 28.77710 & 0.9528414 & -10.995651 & 18.085347 & -1.0853466 & 1.17797730 & 28.69706 & -11.697059 & -14.216176\\\\\n\t  9 & 14 & 29.42719 & 0.9225661 & -14.337278 & 15.513766 & -1.5137658 & 2.29148679 & 29.67794 & -15.677941 &   6.552941\\\\\n\t 10 & 36 & 30.16922 & 0.9045122 &   6.480725 & 36.902696 & -0.9026963 & 0.81486069 & 30.65882 &   5.341176 &  18.572059\\\\\n\t 11 & 50 & 31.14457 & 0.9115964 &  18.600396 & 49.645787 &  0.3542131 & 0.12546693 & 31.63971 &  18.360294 & -10.908824\\\\\n\t 12 & 21 & 32.02670 & 0.9086496 & -10.920611 & 21.147344 & -0.1473436 & 0.02171013 & 32.62059 & -11.620588 & -14.216176\\\\\n\t 13 & 19 & 32.99151 & 0.9142661 & -14.193710 & 18.719171 &  0.2808285 & 0.07886466 & 33.60147 & -14.601471 &   6.552941\\\\\n\t 14 & 41 & 34.01404 & 0.9250917 &   6.596244 & 40.458721 &  0.5412791 & 0.29298301 & 34.58235 &   6.417647 &  18.572059\\\\\n\t 15 & 55 & 35.23689 & 0.9548680 &  18.691164 & 53.511186 &  1.4888139 & 2.21656680 & 35.56324 &  19.436765 & -10.908824\\\\\n\t 16 & 25 & 36.13517 & 0.9492093 & -10.931458 & 25.282935 & -0.2829345 & 0.08005194 & 36.54412 & -11.544118 & -14.216176\\\\\n\\end{tabular}\n",
            "text/plain": [
              "   t  Yt Lt       Bt        Snt        Pt        Et         Et2        Yest    \n",
              "1   0  0 20.85000 0.9808824 -10.908824  0.000000  0.0000000 0.00000000  0.00000\n",
              "2   1 10 22.30794 1.0285882 -14.025353  7.614706  2.3852941 5.68962803 21.83088\n",
              "3   2 31 23.55864 1.0507988   6.641784 29.889471  1.1105294 1.23327557 22.81176\n",
              "4   3 43 24.57314 1.0471690  18.557539 43.181493 -0.1814929 0.03293969 23.79265\n",
              "5   4 16 25.87801 1.0729393 -10.805742 14.711481  1.2885190 1.66028130 24.77353\n",
              "6   5 11 26.60399 1.0382439 -14.354958 12.734771 -1.7347712 3.00943103 25.75441\n",
              "7   6 33 27.40320 1.0143404   6.457327 34.195179 -1.1951785 1.42845167 26.73529\n",
              "8   7 45 28.01962 0.9745483  18.412891 46.989601 -1.9896008 3.95851137 27.71618\n",
              "9   8 17 28.77710 0.9528414 -10.995651 18.085347 -1.0853466 1.17797730 28.69706\n",
              "10  9 14 29.42719 0.9225661 -14.337278 15.513766 -1.5137658 2.29148679 29.67794\n",
              "11 10 36 30.16922 0.9045122   6.480725 36.902696 -0.9026963 0.81486069 30.65882\n",
              "12 11 50 31.14457 0.9115964  18.600396 49.645787  0.3542131 0.12546693 31.63971\n",
              "13 12 21 32.02670 0.9086496 -10.920611 21.147344 -0.1473436 0.02171013 32.62059\n",
              "14 13 19 32.99151 0.9142661 -14.193710 18.719171  0.2808285 0.07886466 33.60147\n",
              "15 14 41 34.01404 0.9250917   6.596244 40.458721  0.5412791 0.29298301 34.58235\n",
              "16 15 55 35.23689 0.9548680  18.691164 53.511186  1.4888139 2.21656680 35.56324\n",
              "17 16 25 36.13517 0.9492093 -10.931458 25.282935 -0.2829345 0.08005194 36.54412\n",
              "   St         Mn        \n",
              "1    0.000000 -14.216176\n",
              "2  -11.830882   6.552941\n",
              "3    8.188235  18.572059\n",
              "4   19.207353 -10.908824\n",
              "5   -8.773529 -14.216176\n",
              "6  -14.754412   6.552941\n",
              "7    6.264706  18.572059\n",
              "8   17.283824 -10.908824\n",
              "9  -11.697059 -14.216176\n",
              "10 -15.677941   6.552941\n",
              "11   5.341176  18.572059\n",
              "12  18.360294 -10.908824\n",
              "13 -11.620588 -14.216176\n",
              "14 -14.601471   6.552941\n",
              "15   6.417647  18.572059\n",
              "16  19.436765 -10.908824\n",
              "17 -11.544118 -14.216176"
            ]
          },
          "metadata": {}
        }
      ]
    },
    {
      "cell_type": "markdown",
      "source": [
        "Valor del error estandar SSE para calcular el error de pronostico S"
      ],
      "metadata": {
        "id": "ZGR9eoYqEE6U"
      }
    },
    {
      "cell_type": "code",
      "source": [
        "t<-16\n",
        "SSE<-sum(Et2)\n",
        "S<-sqrt(SSE/(t-2))"
      ],
      "metadata": {
        "id": "6_R81MVhEHm2"
      },
      "execution_count": 9,
      "outputs": []
    },
    {
      "cell_type": "markdown",
      "source": [
        "Reproducir los valores resultantes en formato de tabla de Fig. 8.10\n",
        "con los valores nuevos para alfa<-0.561, gamma<-0.0, delta1<-0.0."
      ],
      "metadata": {
        "id": "jM9qjwzQEJtk"
      }
    },
    {
      "cell_type": "code",
      "source": [
        "alfa1<-0.561\n",
        "gamma1<-0.0\n",
        "delta1<-0.0\n",
        "for (i in 2:n){\n",
        "  Pt[i]<-Lt[(i-1)]+Bt[(i-1)]+Mn[i-1]\n",
        "  Lt[i]<-Lt[(i-1)]+Bt[(i-1)]+(alfa1*(Yt[i]- Pt[i]))\n",
        "  Bt[i]<-Bt[(i-1)]+(alfa1*gamma1)*(Yt[i]-Pt[i])\n",
        "  Snt[i]<-Mn[i-1]+((1-alfa1)*delta1*(Yt[(i)]-Pt[i]))\n",
        "  Et[i]<-Yt[i]-Pt[i]\n",
        "  Et2[i]<-Et[i]^2\n",
        "}"
      ],
      "metadata": {
        "id": "s-PnyeqSEOX_"
      },
      "execution_count": 10,
      "outputs": []
    },
    {
      "cell_type": "markdown",
      "source": [
        "Visualizar los valores resultantes en formato de tabla de Fig. 8.10.  Generar intervalos de prediccion del 95% para Yest=17,18,19 Z=1.96"
      ],
      "metadata": {
        "id": "C6feeqRMERPz"
      }
    },
    {
      "cell_type": "markdown",
      "source": [
        "Para Yest=17 para un intervalo de predicción del 95%:"
      ],
      "metadata": {
        "id": "K4q1CLLcEbxx"
      }
    },
    {
      "cell_type": "code",
      "source": [
        "z<-qnorm(0.975, mean = 0, sd = 1)\n",
        "Yest17<-Lt[16]+Bt[16]+Mn[13]\n",
        "Y17i<-Yest17-z*S*sqrt(1)\n",
        "Y17s<-Yest17+z*S*sqrt(1)\n",
        "cat(\"Valor Inferior =\",Y17i,\"\\n\")\n",
        "cat(\"Valor Superior =\",Y17s)"
      ],
      "metadata": {
        "colab": {
          "base_uri": "https://localhost:8080/"
        },
        "id": "2CC05ndSETc3",
        "outputId": "c7c2cdc2-df80-4c90-8cc0-1fda455316e6"
      },
      "execution_count": 11,
      "outputs": [
        {
          "output_type": "stream",
          "name": "stdout",
          "text": [
            "Valor Inferior = 20.10834 \n",
            "Valor Superior = 25.25274"
          ]
        }
      ]
    },
    {
      "cell_type": "markdown",
      "source": [
        "Para Yest=18 para un intervalo de predicci?n del 95%"
      ],
      "metadata": {
        "id": "RDcxOp1HEhXp"
      }
    },
    {
      "cell_type": "code",
      "source": [
        "Yest18<-Lt[16]+2*Bt[16]+Mn[14]\n",
        "Y18i<-Yest18-z*S*sqrt(1+(alfa1^2)*(1+gamma1)^2)\n",
        "Y18s<-Yest18+z*S*sqrt(1+(alfa1^2)*(1+gamma1)^2)\n",
        "cat(\"Valor Inferior =\",Y18i,\"\\n\")\n",
        "cat(\"Valor Superior =\",Y18s)"
      ],
      "metadata": {
        "colab": {
          "base_uri": "https://localhost:8080/"
        },
        "id": "ZMGI-xb5EjsN",
        "outputId": "2764edf6-53f6-4c9b-f58e-a53f82b08c6a"
      },
      "execution_count": 12,
      "outputs": [
        {
          "output_type": "stream",
          "name": "stdout",
          "text": [
            "Valor Inferior = 41.48122 \n",
            "Valor Superior = 47.37986"
          ]
        }
      ]
    },
    {
      "cell_type": "markdown",
      "source": [
        " Para Yest=19 para un intervalo de predicción del 95%"
      ],
      "metadata": {
        "id": "kmAd47StEmTj"
      }
    },
    {
      "cell_type": "code",
      "source": [
        "Yest19<-Lt[16]+3*Bt[16]+Mn[15]\n",
        "Y19i<-Yest19-z*S*sqrt(1+(alfa1^2)*((1+gamma1)^2)+(alfa1^2)*(1+2*gamma1)^2)\n",
        "Y19s<-Yest19+z*S*sqrt(1+(alfa1^2)*((1+gamma1)^2)+(alfa1^2)*(1+2*gamma1)^2)\n",
        "cat(\"Valor Inferior =\",Y19i,\"\\n\")\n",
        "cat(\"Valor Superior =\",Y19s)"
      ],
      "metadata": {
        "colab": {
          "base_uri": "https://localhost:8080/"
        },
        "id": "_1vpTcw0EqSR",
        "outputId": "f5728e5a-b0ab-4ec9-a781-b2b92fa25a41"
      },
      "execution_count": 13,
      "outputs": [
        {
          "output_type": "stream",
          "name": "stdout",
          "text": [
            "Valor Inferior = 54.14714 \n",
            "Valor Superior = 60.71395"
          ]
        }
      ]
    }
  ]
}