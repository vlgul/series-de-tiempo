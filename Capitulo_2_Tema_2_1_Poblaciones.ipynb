{
  "nbformat": 4,
  "nbformat_minor": 0,
  "metadata": {
    "colab": {
      "provenance": [],
      "authorship_tag": "ABX9TyMv7oHx1xMC4ukYrCYfWfga",
      "include_colab_link": true
    },
    "kernelspec": {
      "name": "ir",
      "display_name": "R"
    },
    "language_info": {
      "name": "R"
    }
  },
  "cells": [
    {
      "cell_type": "markdown",
      "metadata": {
        "id": "view-in-github",
        "colab_type": "text"
      },
      "source": [
        "<a href=\"https://colab.research.google.com/github/vlgul/series-de-tiempo/blob/main/Capitulo_2_Tema_2_1_Poblaciones.ipynb\" target=\"_parent\"><img src=\"https://colab.research.google.com/assets/colab-badge.svg\" alt=\"Open In Colab\"/></a>"
      ]
    },
    {
      "cell_type": "markdown",
      "source": [
        "# **Capítulo 2: Conceptos básicos de estadística.**\n",
        "\n",
        "- **Población:**\n",
        "- **Parámetro:**\n",
        "  - **Parámetros Poblacionales:**\n",
        "    - Media poblacional:\n",
        "    - Varianza de la población:\n",
        "    - Amplitud o intervalo poblacional:\n",
        "    - Desviación estándar:"
      ],
      "metadata": {
        "id": "UguGvclSlTj8"
      }
    },
    {
      "cell_type": "markdown",
      "source": [
        "Ejemplo 2.1. La National Motors Company, Inc. es una planta automotriz que produce un modelo llamado Hawk. La compañia desea estudiar la cantidad de millas por galón (mpg) que consigue el Hawk cuando ya ha recorrido 50,000 millas en condiciones normales. \n",
        "\n",
        "Considere la población de los primeros N=3 Hawks fabricados por National Motors. Suponga que cada automovil viaja en las condiciones mencionadas antes y que las millas recorridas obtenidas son 32.4, 30.6 y 31.8. En el caso de esta población:"
      ],
      "metadata": {
        "id": "So_6X_IfrQYA"
      }
    },
    {
      "cell_type": "markdown",
      "source": [
        "La media es: "
      ],
      "metadata": {
        "id": "MDyXNuUtscpN"
      }
    },
    {
      "cell_type": "code",
      "execution_count": null,
      "metadata": {
        "colab": {
          "base_uri": "https://localhost:8080/",
          "height": 34
        },
        "id": "enqTNfBrlRE6",
        "outputId": "075d4cba-4568-4935-94bb-082a6b79239f"
      },
      "outputs": [
        {
          "output_type": "display_data",
          "data": {
            "text/html": [
              "31.6"
            ],
            "text/markdown": "31.6",
            "text/latex": "31.6",
            "text/plain": [
              "[1] 31.6"
            ]
          },
          "metadata": {}
        }
      ],
      "source": [
        "hawk<-c(32.4,30.6,31.8)\n",
        "mean(hawk)"
      ]
    },
    {
      "cell_type": "markdown",
      "source": [
        "El rango o la amplitud es:"
      ],
      "metadata": {
        "id": "FshbzBOEshNn"
      }
    },
    {
      "cell_type": "code",
      "source": [
        "min<-min(hawk)\n",
        "max<-max(hawk)\n",
        "amp<-max-min\n",
        "amp"
      ],
      "metadata": {
        "colab": {
          "base_uri": "https://localhost:8080/",
          "height": 34
        },
        "id": "xhrP4oHssjDb",
        "outputId": "c225f3c1-a989-4d18-e6fa-20bdcd139b35"
      },
      "execution_count": null,
      "outputs": [
        {
          "output_type": "display_data",
          "data": {
            "text/html": [
              "1.8"
            ],
            "text/markdown": "1.8",
            "text/latex": "1.8",
            "text/plain": [
              "[1] 1.8"
            ]
          },
          "metadata": {}
        }
      ]
    },
    {
      "cell_type": "markdown",
      "source": [
        "La varianza poblacional es:"
      ],
      "metadata": {
        "id": "0it88oBSs3AM"
      }
    },
    {
      "cell_type": "code",
      "source": [
        "varianza<-var(hawk)\n",
        "varianza"
      ],
      "metadata": {
        "colab": {
          "base_uri": "https://localhost:8080/",
          "height": 34
        },
        "id": "YbE9KT24s47O",
        "outputId": "a1f6360f-9221-40ad-fca5-19a5d059c866"
      },
      "execution_count": null,
      "outputs": [
        {
          "output_type": "display_data",
          "data": {
            "text/html": [
              "0.839999999999998"
            ],
            "text/markdown": "0.839999999999998",
            "text/latex": "0.839999999999998",
            "text/plain": [
              "[1] 0.84"
            ]
          },
          "metadata": {}
        }
      ]
    },
    {
      "cell_type": "markdown",
      "source": [
        "La varianza de la muestra es:"
      ],
      "metadata": {
        "id": "vUO_aQBeuyOM"
      }
    },
    {
      "cell_type": "code",
      "source": [
        " n <- length(hawk)\n",
        "var (hawk) * (n-1) / n"
      ],
      "metadata": {
        "colab": {
          "base_uri": "https://localhost:8080/",
          "height": 34
        },
        "id": "uuIiP-oGu0PI",
        "outputId": "8c46d252-5515-44aa-b928-d32264aa0329"
      },
      "execution_count": null,
      "outputs": [
        {
          "output_type": "display_data",
          "data": {
            "text/html": [
              "0.559999999999998"
            ],
            "text/markdown": "0.559999999999998",
            "text/latex": "0.559999999999998",
            "text/plain": [
              "[1] 0.56"
            ]
          },
          "metadata": {}
        }
      ]
    },
    {
      "cell_type": "markdown",
      "source": [
        "La desviación estándar es: "
      ],
      "metadata": {
        "id": "vy-FbQE3tNNF"
      }
    },
    {
      "cell_type": "code",
      "source": [
        "desv_est<-sqrt(varianza)\n",
        "desv_est"
      ],
      "metadata": {
        "colab": {
          "base_uri": "https://localhost:8080/",
          "height": 34
        },
        "id": "ns4ItQu1tPnD",
        "outputId": "b9bd5f48-ecd1-49ef-e84a-6443a77dd06c"
      },
      "execution_count": null,
      "outputs": [
        {
          "output_type": "display_data",
          "data": {
            "text/html": [
              "0.916515138991167"
            ],
            "text/markdown": "0.916515138991167",
            "text/latex": "0.916515138991167",
            "text/plain": [
              "[1] 0.9165151"
            ]
          },
          "metadata": {}
        }
      ]
    }
  ]
}