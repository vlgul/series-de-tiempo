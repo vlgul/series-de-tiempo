{
  "nbformat": 4,
  "nbformat_minor": 0,
  "metadata": {
    "colab": {
      "provenance": [],
      "authorship_tag": "ABX9TyNd8rEGF0MCxYhUhVXsJvms",
      "include_colab_link": true
    },
    "kernelspec": {
      "name": "ir",
      "display_name": "R"
    },
    "language_info": {
      "name": "R"
    }
  },
  "cells": [
    {
      "cell_type": "markdown",
      "metadata": {
        "id": "view-in-github",
        "colab_type": "text"
      },
      "source": [
        "<a href=\"https://colab.research.google.com/github/vlgul/series-de-tiempo/blob/main/Capitulo_6_Tema_6_4_Modelos_trigonom%C3%A9tricos_para_la_variaci%C3%B3n_estacional.ipynb\" target=\"_parent\"><img src=\"https://colab.research.google.com/assets/colab-badge.svg\" alt=\"Open In Colab\"/></a>"
      ]
    },
    {
      "cell_type": "markdown",
      "source": [
        "Leer datos del archivo CSV "
      ],
      "metadata": {
        "id": "rNPiRdzsTO8A"
      }
    },
    {
      "cell_type": "code",
      "execution_count": 2,
      "metadata": {
        "colab": {
          "base_uri": "https://localhost:8080/",
          "height": 373
        },
        "id": "4MDbnVfNSrw1",
        "outputId": "63732065-910e-4a13-d28f-dc420af2e90b"
      },
      "outputs": [
        {
          "output_type": "stream",
          "name": "stderr",
          "text": [
            "The following objects are masked from Datos1 (pos = 3):\n",
            "\n",
            "    t, yt\n",
            "\n",
            "\n"
          ]
        },
        {
          "output_type": "error",
          "ename": "ERROR",
          "evalue": "ignored",
          "traceback": [
            "Error in eval(predvars, data, env): object 'M1' not found\nTraceback:\n",
            "1. lm(yt ~ t + M1 + M2 + M3 + M4 + M5 + M6 + M7 + M8 + M9 + M10 + \n .     M11)",
            "2. eval(mf, parent.frame())",
            "3. eval(mf, parent.frame())",
            "4. stats::model.frame(formula = yt ~ t + M1 + M2 + M3 + M4 + M5 + \n .     M6 + M7 + M8 + M9 + M10 + M11, drop.unused.levels = TRUE)",
            "5. model.frame.default(formula = yt ~ t + M1 + M2 + M3 + M4 + M5 + \n .     M6 + M7 + M8 + M9 + M10 + M11, drop.unused.levels = TRUE)",
            "6. eval(predvars, data, env)",
            "7. eval(predvars, data, env)"
          ]
        }
      ],
      "source": [
        "Datos1<-read.csv(\"/content/Datos6.1.csv\", header=T)\n",
        "attach(Datos1)\n",
        "Modelo1<-lm(yt~t+M1+M2+M3+M4+M5+M6+M7+M8+M9+M10+M11)\n",
        "summary(Modelo1)\n",
        "res<-residuals(Modelo1)\n",
        "Modelo2<-lm(yt~t+M1+M2+M3+M4+M5+M6+M7+M8+M9+M10+M11+res)\n",
        "summary(Modelo2)"
      ]
    },
    {
      "cell_type": "markdown",
      "source": [
        " Definir valor de estaciones al a�o por meses (estacionalidad)"
      ],
      "metadata": {
        "id": "DvWFB1PxTks4"
      }
    },
    {
      "cell_type": "code",
      "source": [
        "L=12"
      ],
      "metadata": {
        "id": "v-HROe-2TnJk"
      },
      "execution_count": null,
      "outputs": []
    },
    {
      "cell_type": "markdown",
      "source": [
        "Graficar información de turistas visitantes por mes."
      ],
      "metadata": {
        "id": "bKF6nyx6TpLE"
      }
    },
    {
      "cell_type": "code",
      "source": [
        "plot(t,yt,xlab=\"# de Mes\", ylab=\"# de Turistas\",type=\"o\",pch=20,\n",
        "     lwd=1,col=10)"
      ],
      "metadata": {
        "id": "q2O71sVFTtKl"
      },
      "execution_count": null,
      "outputs": []
    },
    {
      "cell_type": "markdown",
      "source": [
        "Calcular valores para generar los modelos trigonometrico para la variable estacional constante X1 y X2, valor de PI definido"
      ],
      "metadata": {
        "id": "9DhPwmtzTvQR"
      }
    },
    {
      "cell_type": "code",
      "source": [
        "X1<-sin((2*pi*Datos1$t)/L)\n",
        "plot(t,X1,xlab=\"# de Mes\",ylab=\"# de Turistas\")\n",
        "X2<-cos((2*pi*Datos1$t)/L)\n",
        "plot(t,X2,xlab=\"# de Mes\",ylab=\"# de Turistas\")"
      ],
      "metadata": {
        "id": "M_5cDikBTzEI"
      },
      "execution_count": null,
      "outputs": []
    },
    {
      "cell_type": "markdown",
      "source": [
        "Generar variables ficticias aditivas para el factor estacional"
      ],
      "metadata": {
        "id": "EPkmU5RST3uA"
      }
    },
    {
      "cell_type": "code",
      "source": [
        "A<-data.frame(Datos1,X1,X2)\n",
        "write.table(A, file = \"vardummies.csv\", append = FALSE, \n",
        "            quote = TRUE, sep = \" ,\", row.names = TRUE,\n",
        "            col.names = TRUE)\n",
        "Datos2<-read.csv(\"vardummies.csv\",header = TRUE, sep = \",\")\n",
        "attach(Datos2)"
      ],
      "metadata": {
        "id": "a9Dl47pYT5Fw"
      },
      "execution_count": null,
      "outputs": []
    },
    {
      "cell_type": "markdown",
      "source": [
        "Generar el modelo de regresion original con los datos iniciales."
      ],
      "metadata": {
        "id": "Td0QQKPtT7V7"
      }
    },
    {
      "cell_type": "code",
      "source": [
        "MOrig<-lm(yt~t)\n",
        "b0<-coef(MOrig)[1]\n",
        "b1<-coef(MOrig)[2]\n",
        "Yt<-b0+b1*Datos1$t\n",
        "plot(t,Yt)"
      ],
      "metadata": {
        "id": "QQD37S9UT-zZ"
      },
      "execution_count": null,
      "outputs": []
    },
    {
      "cell_type": "markdown",
      "source": [
        "Construir Modelo 1 con la forma cuadratica a predecir con 95% n.c."
      ],
      "metadata": {
        "id": "QOVTxU6xUAyW"
      }
    },
    {
      "cell_type": "code",
      "source": [
        "M1<-lm(yt~t+X1+X2)\n",
        "summary(M1)\n",
        "pred<-predict(M1,data.frame(t,X1,X2), \n",
        "              interval = \"prediction\", \n",
        "              level = 0.95)\n",
        "b0<-coef(M1)[1]\n",
        "b1<-coef(M1)[2]\n",
        "b2<-coef(M1)[3]\n",
        "b3<-coef(M1)[4]"
      ],
      "metadata": {
        "id": "_1qL4GlyUCw5"
      },
      "execution_count": null,
      "outputs": []
    },
    {
      "cell_type": "markdown",
      "source": [
        "Graficar con los valores de prediccion como modelo de regresi�n"
      ],
      "metadata": {
        "id": "a435reXTUEwm"
      }
    },
    {
      "cell_type": "code",
      "source": [
        "library(\"ggplot2\")\n",
        "p <- ggplot(Datos2, aes(t, yt)) + geom_point() + stat_smooth(method = lm)\n",
        "p + geom_line(aes(lwr=X1), color = \"red\", linetype = \"dashed\")+\n",
        "    geom_line(aes(upr=X2), color = \"red\", linetype = \"dashed\")"
      ],
      "metadata": {
        "id": "4Sx10ka6UHDg"
      },
      "execution_count": null,
      "outputs": []
    },
    {
      "cell_type": "markdown",
      "source": [
        "Estimar valores de Yt como modelo de regresion "
      ],
      "metadata": {
        "id": "gpYhw5G3UI9T"
      }
    },
    {
      "cell_type": "code",
      "source": [
        "Yest1<-b0+(b1*Datos2$t)+(b2*Datos2$X1)+(b3*Datos2$X2)\n",
        "plot(Yest1, xlab=\"# de Mes\", ylab=\"# de Turistas\")"
      ],
      "metadata": {
        "id": "QzBLxOnyULN_"
      },
      "execution_count": null,
      "outputs": []
    },
    {
      "cell_type": "markdown",
      "source": [
        "Predecir los valores para cuando t= 169, 170, 171 con 95% n.c"
      ],
      "metadata": {
        "id": "L9Vi6ZDDUNEJ"
      }
    },
    {
      "cell_type": "code",
      "source": [
        "predict(M1,data.frame(t=169,X1=sin((2*pi*169)/L), \n",
        "                        X2=cos((2*pi*169)/L)),\n",
        "                        interval = \"prediction\",\n",
        "                        level= 0.95)\n",
        "\n",
        "predict(M1,data.frame(t=170,X1=sin((2*pi*170)/L),\n",
        "                        X2=cos((2*pi*170)/L)),\n",
        "                        interval = \"prediction\", \n",
        "                        level= 0.95)\n",
        "\n",
        "predict(M1,data.frame(t=171,X1=sin((2*pi*171)/L),\n",
        "                        X2=cos((2*pi*171)/L)),\n",
        "                        interval = \"prediction\", \n",
        "                        level= 0.95)"
      ],
      "metadata": {
        "id": "JnIJ-TGSUPO2"
      },
      "execution_count": null,
      "outputs": []
    },
    {
      "cell_type": "markdown",
      "source": [
        "Calcular estimadores puntuales en Yt cuando t=169, 170, 171"
      ],
      "metadata": {
        "id": "Qu7kXYU9URe5"
      }
    },
    {
      "cell_type": "code",
      "source": [
        "Y169<-b0+(b1*169)+b2*(sin((2*pi*169)/L))+b3*(cos((2*pi*169)/L))\n",
        "Y170<-b0+(b1*170)+b2*(sin((2*pi*170)/L))+b3*(cos((2*pi*170)/L))\n",
        "Y171<-b0+(b1*171)+b2*(sin((2*pi*171)/L))+b3*(cos((2*pi*171)/L))"
      ],
      "metadata": {
        "id": "l9Cs7YZ4UTZT"
      },
      "execution_count": null,
      "outputs": []
    },
    {
      "cell_type": "markdown",
      "source": [
        "Construir formula para realizar calculo de intervalos de confianza: Varianza"
      ],
      "metadata": {
        "id": "8qHV-S-ZUVPo"
      }
    },
    {
      "cell_type": "code",
      "source": [
        "t2=169\n",
        "S2<-sum((M1$residuals)^2)/t2\n",
        "S2\n",
        "S<-sqrt(S2)\n",
        "c<-1+(1/t2-1)\n",
        "d<-(t2-mean(Datos2$t))^2\n",
        "e<-sum((Datos2$t-mean(Datos2$t))^2)"
      ],
      "metadata": {
        "id": "5A2VmwILUXxS"
      },
      "execution_count": null,
      "outputs": []
    },
    {
      "cell_type": "markdown",
      "source": [
        "Dato de tablas con 95% n.c."
      ],
      "metadata": {
        "id": "6LSazvWnUeGk"
      }
    },
    {
      "cell_type": "code",
      "source": [
        "QT<-qt(0.025, 156, lower.tail = F)"
      ],
      "metadata": {
        "id": "WXWxAMgBUiBH"
      },
      "execution_count": null,
      "outputs": []
    },
    {
      "cell_type": "markdown",
      "source": [
        "Raiz"
      ],
      "metadata": {
        "id": "1OY1q0l3Uk0D"
      }
    },
    {
      "cell_type": "code",
      "source": [
        "Raiz<-sqrt(c+(d/e))"
      ],
      "metadata": {
        "id": "ClIaAzXyUpQr"
      },
      "execution_count": null,
      "outputs": []
    },
    {
      "cell_type": "markdown",
      "source": [
        "Calcular intervalos de confianza para Yt cuando t=169, 170, 171"
      ],
      "metadata": {
        "id": "jQ8BZWf1Uwef"
      }
    },
    {
      "cell_type": "code",
      "source": [
        "INF1<-Y169-QT*60.87*Raiz\n",
        "SU1<-Y169+QT*60.87*Raiz \n",
        "cat(\"Valor Inferior\",INF1,\"\\n\")\n",
        "cat(\"Valor Superior\",SU1)\n",
        "\n",
        "INF2<-Y170-QT*60.87*Raiz\n",
        "SU2<-Y170+QT*60.87*Raiz \n",
        "cat(\"Valor Inferior\",INF2,\"\\n\")\n",
        "cat(\"Valor Superior\",SU2)\n",
        "\n",
        "INF3<-Y171-QT*60.87*Raiz\n",
        "SU3<-Y171+QT*60.87*Raiz \n",
        "cat(\"Valor Inferior\",INF3,\"\\n\")\n",
        "cat(\"Valor Superior\",SU3)"
      ],
      "metadata": {
        "id": "dgp5_5y1Uy62"
      },
      "execution_count": null,
      "outputs": []
    }
  ]
}