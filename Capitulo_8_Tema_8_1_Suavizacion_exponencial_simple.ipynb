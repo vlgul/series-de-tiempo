{
  "nbformat": 4,
  "nbformat_minor": 0,
  "metadata": {
    "colab": {
      "provenance": [],
      "authorship_tag": "ABX9TyOQYJJhOXWTEyuYIuMX/Ij3",
      "include_colab_link": true
    },
    "kernelspec": {
      "name": "ir",
      "display_name": "R"
    },
    "language_info": {
      "name": "R"
    }
  },
  "cells": [
    {
      "cell_type": "markdown",
      "metadata": {
        "id": "view-in-github",
        "colab_type": "text"
      },
      "source": [
        "<a href=\"https://colab.research.google.com/github/vlgul/series-de-tiempo/blob/main/Capitulo_8_Tema_8_1_Suavizacion_exponencial_simple.ipynb\" target=\"_parent\"><img src=\"https://colab.research.google.com/assets/colab-badge.svg\" alt=\"Open In Colab\"/></a>"
      ]
    },
    {
      "cell_type": "markdown",
      "source": [
        "## **Capitulo 8:  Suavización exponencial** ###\n",
        "\n",
        "### 8.1. Suavización exponencial simple ###\n",
        "\n",
        "Considere los datos de la pesca de bacalao del Ejemplo 6.1., los cuales se proporcionan en la tabla 6.1. La gráfica de los datos (en la figura 6.2) sugiere que no hay tendencia o patrón estacional. Es posible también que el nivel (o media) pudiera estar cambiando lentamente a lo largo del tiempo."
      ],
      "metadata": {
        "id": "m2sfRy7NF_63"
      }
    },
    {
      "cell_type": "code",
      "execution_count": 1,
      "metadata": {
        "id": "LJGxMLxtF-F7"
      },
      "outputs": [],
      "source": [
        "Periodo<-seq(0,24)\n",
        "Bacalao<-c(0,362,381,317,297,399,402,375,349,386,328,389,343,276,334,394,334,384,314,344,337,345,362,314,365)\n",
        "n<-25\n",
        "L<-12\n",
        "L0<-(sum(Bacalao[1:(L+1)])/L)\n",
        "Lt<-double(n)\n",
        "Pt<-double(n)\n",
        "Et<-double(n)\n",
        "Et2<-double(n)"
      ]
    },
    {
      "cell_type": "markdown",
      "source": [
        "Para alfa=0.1"
      ],
      "metadata": {
        "id": "-l3fh6WVGE91"
      }
    },
    {
      "cell_type": "code",
      "source": [
        "alfa<-0.1\n",
        "Lt[1]<-L0\n",
        " for (i in 2:n)\n",
        "    { \n",
        "      Lt[i]<-alfa*Bacalao[i]+(1-alfa)*Lt[i-1]\n",
        "      Pt[i]<-Lt[i-1]\n",
        "      Et[i]<-(Bacalao[i:(n-1)]-Pt[i:(n-1)])\n",
        "      Et2[i]<-((Et[i])^2)\n",
        "    }\n",
        "D<-data.frame(Periodo,Bacalao,Lt,Pt,Et,Et2)\n",
        "D"
      ],
      "metadata": {
        "colab": {
          "base_uri": "https://localhost:8080/",
          "height": 1000
        },
        "id": "6n42PymiGJ84",
        "outputId": "aeea58e8-8fd0-4cee-ae41-f84ddd96de35"
      },
      "execution_count": 2,
      "outputs": [
        {
          "output_type": "stream",
          "name": "stderr",
          "text": [
            "Warning message in Et[i] <- (Bacalao[i:(n - 1)] - Pt[i:(n - 1)]):\n",
            "“number of items to replace is not a multiple of replacement length”\n",
            "Warning message in Et[i] <- (Bacalao[i:(n - 1)] - Pt[i:(n - 1)]):\n",
            "“number of items to replace is not a multiple of replacement length”\n",
            "Warning message in Et[i] <- (Bacalao[i:(n - 1)] - Pt[i:(n - 1)]):\n",
            "“number of items to replace is not a multiple of replacement length”\n",
            "Warning message in Et[i] <- (Bacalao[i:(n - 1)] - Pt[i:(n - 1)]):\n",
            "“number of items to replace is not a multiple of replacement length”\n",
            "Warning message in Et[i] <- (Bacalao[i:(n - 1)] - Pt[i:(n - 1)]):\n",
            "“number of items to replace is not a multiple of replacement length”\n",
            "Warning message in Et[i] <- (Bacalao[i:(n - 1)] - Pt[i:(n - 1)]):\n",
            "“number of items to replace is not a multiple of replacement length”\n",
            "Warning message in Et[i] <- (Bacalao[i:(n - 1)] - Pt[i:(n - 1)]):\n",
            "“number of items to replace is not a multiple of replacement length”\n",
            "Warning message in Et[i] <- (Bacalao[i:(n - 1)] - Pt[i:(n - 1)]):\n",
            "“number of items to replace is not a multiple of replacement length”\n",
            "Warning message in Et[i] <- (Bacalao[i:(n - 1)] - Pt[i:(n - 1)]):\n",
            "“number of items to replace is not a multiple of replacement length”\n",
            "Warning message in Et[i] <- (Bacalao[i:(n - 1)] - Pt[i:(n - 1)]):\n",
            "“number of items to replace is not a multiple of replacement length”\n",
            "Warning message in Et[i] <- (Bacalao[i:(n - 1)] - Pt[i:(n - 1)]):\n",
            "“number of items to replace is not a multiple of replacement length”\n",
            "Warning message in Et[i] <- (Bacalao[i:(n - 1)] - Pt[i:(n - 1)]):\n",
            "“number of items to replace is not a multiple of replacement length”\n",
            "Warning message in Et[i] <- (Bacalao[i:(n - 1)] - Pt[i:(n - 1)]):\n",
            "“number of items to replace is not a multiple of replacement length”\n",
            "Warning message in Et[i] <- (Bacalao[i:(n - 1)] - Pt[i:(n - 1)]):\n",
            "“number of items to replace is not a multiple of replacement length”\n",
            "Warning message in Et[i] <- (Bacalao[i:(n - 1)] - Pt[i:(n - 1)]):\n",
            "“number of items to replace is not a multiple of replacement length”\n",
            "Warning message in Et[i] <- (Bacalao[i:(n - 1)] - Pt[i:(n - 1)]):\n",
            "“number of items to replace is not a multiple of replacement length”\n",
            "Warning message in Et[i] <- (Bacalao[i:(n - 1)] - Pt[i:(n - 1)]):\n",
            "“number of items to replace is not a multiple of replacement length”\n",
            "Warning message in Et[i] <- (Bacalao[i:(n - 1)] - Pt[i:(n - 1)]):\n",
            "“number of items to replace is not a multiple of replacement length”\n",
            "Warning message in Et[i] <- (Bacalao[i:(n - 1)] - Pt[i:(n - 1)]):\n",
            "“number of items to replace is not a multiple of replacement length”\n",
            "Warning message in Et[i] <- (Bacalao[i:(n - 1)] - Pt[i:(n - 1)]):\n",
            "“number of items to replace is not a multiple of replacement length”\n",
            "Warning message in Et[i] <- (Bacalao[i:(n - 1)] - Pt[i:(n - 1)]):\n",
            "“number of items to replace is not a multiple of replacement length”\n",
            "Warning message in Et[i] <- (Bacalao[i:(n - 1)] - Pt[i:(n - 1)]):\n",
            "“number of items to replace is not a multiple of replacement length”\n",
            "Warning message in Et[i] <- (Bacalao[i:(n - 1)] - Pt[i:(n - 1)]):\n",
            "“number of items to replace is not a multiple of replacement length”\n"
          ]
        },
        {
          "output_type": "display_data",
          "data": {
            "text/html": [
              "<table class=\"dataframe\">\n",
              "<caption>A data.frame: 25 × 6</caption>\n",
              "<thead>\n",
              "\t<tr><th scope=col>Periodo</th><th scope=col>Bacalao</th><th scope=col>Lt</th><th scope=col>Pt</th><th scope=col>Et</th><th scope=col>Et2</th></tr>\n",
              "\t<tr><th scope=col>&lt;int&gt;</th><th scope=col>&lt;dbl&gt;</th><th scope=col>&lt;dbl&gt;</th><th scope=col>&lt;dbl&gt;</th><th scope=col>&lt;dbl&gt;</th><th scope=col>&lt;dbl&gt;</th></tr>\n",
              "</thead>\n",
              "<tbody>\n",
              "\t<tr><td> 0</td><td>  0</td><td>360.6667</td><td>  0.0000</td><td>  0.000000</td><td>   0.000000</td></tr>\n",
              "\t<tr><td> 1</td><td>362</td><td>360.8000</td><td>360.6667</td><td>  1.333333</td><td>   1.777778</td></tr>\n",
              "\t<tr><td> 2</td><td>381</td><td>362.8200</td><td>360.8000</td><td> 20.200000</td><td> 408.040000</td></tr>\n",
              "\t<tr><td> 3</td><td>317</td><td>358.2380</td><td>362.8200</td><td>-45.820000</td><td>2099.472400</td></tr>\n",
              "\t<tr><td> 4</td><td>297</td><td>352.1142</td><td>358.2380</td><td>-61.238000</td><td>3750.092644</td></tr>\n",
              "\t<tr><td> 5</td><td>399</td><td>356.8028</td><td>352.1142</td><td> 46.885800</td><td>2198.278242</td></tr>\n",
              "\t<tr><td> 6</td><td>402</td><td>361.3225</td><td>356.8028</td><td> 45.197220</td><td>2042.788696</td></tr>\n",
              "\t<tr><td> 7</td><td>375</td><td>362.6903</td><td>361.3225</td><td> 13.677498</td><td> 187.073952</td></tr>\n",
              "\t<tr><td> 8</td><td>349</td><td>361.3212</td><td>362.6903</td><td>-13.690252</td><td> 187.422994</td></tr>\n",
              "\t<tr><td> 9</td><td>386</td><td>363.7891</td><td>361.3212</td><td> 24.678773</td><td> 609.041856</td></tr>\n",
              "\t<tr><td>10</td><td>328</td><td>360.2102</td><td>363.7891</td><td>-35.789104</td><td>1280.859962</td></tr>\n",
              "\t<tr><td>11</td><td>389</td><td>363.0892</td><td>360.2102</td><td> 28.789806</td><td> 828.852955</td></tr>\n",
              "\t<tr><td>12</td><td>343</td><td>361.0803</td><td>363.0892</td><td>-20.089174</td><td> 403.574920</td></tr>\n",
              "\t<tr><td>13</td><td>276</td><td>352.5722</td><td>361.0803</td><td>-85.080257</td><td>7238.650095</td></tr>\n",
              "\t<tr><td>14</td><td>334</td><td>350.7150</td><td>352.5722</td><td>-18.572231</td><td> 344.927768</td></tr>\n",
              "\t<tr><td>15</td><td>394</td><td>355.0435</td><td>350.7150</td><td> 43.284992</td><td>1873.590533</td></tr>\n",
              "\t<tr><td>16</td><td>334</td><td>352.9392</td><td>355.0435</td><td>-21.043507</td><td> 442.829195</td></tr>\n",
              "\t<tr><td>17</td><td>384</td><td>356.0452</td><td>352.9392</td><td> 31.060844</td><td> 964.776000</td></tr>\n",
              "\t<tr><td>18</td><td>314</td><td>351.8407</td><td>356.0452</td><td>-42.045241</td><td>1767.802276</td></tr>\n",
              "\t<tr><td>19</td><td>344</td><td>351.0566</td><td>351.8407</td><td> -7.840717</td><td>  61.476839</td></tr>\n",
              "\t<tr><td>20</td><td>337</td><td>349.6510</td><td>351.0566</td><td>-14.056645</td><td> 197.589271</td></tr>\n",
              "\t<tr><td>21</td><td>345</td><td>349.1859</td><td>349.6510</td><td> -4.650981</td><td>  21.631620</td></tr>\n",
              "\t<tr><td>22</td><td>362</td><td>350.4673</td><td>349.1859</td><td> 12.814117</td><td> 164.201607</td></tr>\n",
              "\t<tr><td>23</td><td>314</td><td>346.8206</td><td>350.4673</td><td>-36.467294</td><td>1329.863550</td></tr>\n",
              "\t<tr><td>24</td><td>365</td><td>348.6385</td><td>346.8206</td><td> 18.179435</td><td> 330.491863</td></tr>\n",
              "</tbody>\n",
              "</table>\n"
            ],
            "text/markdown": "\nA data.frame: 25 × 6\n\n| Periodo &lt;int&gt; | Bacalao &lt;dbl&gt; | Lt &lt;dbl&gt; | Pt &lt;dbl&gt; | Et &lt;dbl&gt; | Et2 &lt;dbl&gt; |\n|---|---|---|---|---|---|\n|  0 |   0 | 360.6667 |   0.0000 |   0.000000 |    0.000000 |\n|  1 | 362 | 360.8000 | 360.6667 |   1.333333 |    1.777778 |\n|  2 | 381 | 362.8200 | 360.8000 |  20.200000 |  408.040000 |\n|  3 | 317 | 358.2380 | 362.8200 | -45.820000 | 2099.472400 |\n|  4 | 297 | 352.1142 | 358.2380 | -61.238000 | 3750.092644 |\n|  5 | 399 | 356.8028 | 352.1142 |  46.885800 | 2198.278242 |\n|  6 | 402 | 361.3225 | 356.8028 |  45.197220 | 2042.788696 |\n|  7 | 375 | 362.6903 | 361.3225 |  13.677498 |  187.073952 |\n|  8 | 349 | 361.3212 | 362.6903 | -13.690252 |  187.422994 |\n|  9 | 386 | 363.7891 | 361.3212 |  24.678773 |  609.041856 |\n| 10 | 328 | 360.2102 | 363.7891 | -35.789104 | 1280.859962 |\n| 11 | 389 | 363.0892 | 360.2102 |  28.789806 |  828.852955 |\n| 12 | 343 | 361.0803 | 363.0892 | -20.089174 |  403.574920 |\n| 13 | 276 | 352.5722 | 361.0803 | -85.080257 | 7238.650095 |\n| 14 | 334 | 350.7150 | 352.5722 | -18.572231 |  344.927768 |\n| 15 | 394 | 355.0435 | 350.7150 |  43.284992 | 1873.590533 |\n| 16 | 334 | 352.9392 | 355.0435 | -21.043507 |  442.829195 |\n| 17 | 384 | 356.0452 | 352.9392 |  31.060844 |  964.776000 |\n| 18 | 314 | 351.8407 | 356.0452 | -42.045241 | 1767.802276 |\n| 19 | 344 | 351.0566 | 351.8407 |  -7.840717 |   61.476839 |\n| 20 | 337 | 349.6510 | 351.0566 | -14.056645 |  197.589271 |\n| 21 | 345 | 349.1859 | 349.6510 |  -4.650981 |   21.631620 |\n| 22 | 362 | 350.4673 | 349.1859 |  12.814117 |  164.201607 |\n| 23 | 314 | 346.8206 | 350.4673 | -36.467294 | 1329.863550 |\n| 24 | 365 | 348.6385 | 346.8206 |  18.179435 |  330.491863 |\n\n",
            "text/latex": "A data.frame: 25 × 6\n\\begin{tabular}{llllll}\n Periodo & Bacalao & Lt & Pt & Et & Et2\\\\\n <int> & <dbl> & <dbl> & <dbl> & <dbl> & <dbl>\\\\\n\\hline\n\t  0 &   0 & 360.6667 &   0.0000 &   0.000000 &    0.000000\\\\\n\t  1 & 362 & 360.8000 & 360.6667 &   1.333333 &    1.777778\\\\\n\t  2 & 381 & 362.8200 & 360.8000 &  20.200000 &  408.040000\\\\\n\t  3 & 317 & 358.2380 & 362.8200 & -45.820000 & 2099.472400\\\\\n\t  4 & 297 & 352.1142 & 358.2380 & -61.238000 & 3750.092644\\\\\n\t  5 & 399 & 356.8028 & 352.1142 &  46.885800 & 2198.278242\\\\\n\t  6 & 402 & 361.3225 & 356.8028 &  45.197220 & 2042.788696\\\\\n\t  7 & 375 & 362.6903 & 361.3225 &  13.677498 &  187.073952\\\\\n\t  8 & 349 & 361.3212 & 362.6903 & -13.690252 &  187.422994\\\\\n\t  9 & 386 & 363.7891 & 361.3212 &  24.678773 &  609.041856\\\\\n\t 10 & 328 & 360.2102 & 363.7891 & -35.789104 & 1280.859962\\\\\n\t 11 & 389 & 363.0892 & 360.2102 &  28.789806 &  828.852955\\\\\n\t 12 & 343 & 361.0803 & 363.0892 & -20.089174 &  403.574920\\\\\n\t 13 & 276 & 352.5722 & 361.0803 & -85.080257 & 7238.650095\\\\\n\t 14 & 334 & 350.7150 & 352.5722 & -18.572231 &  344.927768\\\\\n\t 15 & 394 & 355.0435 & 350.7150 &  43.284992 & 1873.590533\\\\\n\t 16 & 334 & 352.9392 & 355.0435 & -21.043507 &  442.829195\\\\\n\t 17 & 384 & 356.0452 & 352.9392 &  31.060844 &  964.776000\\\\\n\t 18 & 314 & 351.8407 & 356.0452 & -42.045241 & 1767.802276\\\\\n\t 19 & 344 & 351.0566 & 351.8407 &  -7.840717 &   61.476839\\\\\n\t 20 & 337 & 349.6510 & 351.0566 & -14.056645 &  197.589271\\\\\n\t 21 & 345 & 349.1859 & 349.6510 &  -4.650981 &   21.631620\\\\\n\t 22 & 362 & 350.4673 & 349.1859 &  12.814117 &  164.201607\\\\\n\t 23 & 314 & 346.8206 & 350.4673 & -36.467294 & 1329.863550\\\\\n\t 24 & 365 & 348.6385 & 346.8206 &  18.179435 &  330.491863\\\\\n\\end{tabular}\n",
            "text/plain": [
              "   Periodo Bacalao Lt       Pt       Et         Et2        \n",
              "1   0        0     360.6667   0.0000   0.000000    0.000000\n",
              "2   1      362     360.8000 360.6667   1.333333    1.777778\n",
              "3   2      381     362.8200 360.8000  20.200000  408.040000\n",
              "4   3      317     358.2380 362.8200 -45.820000 2099.472400\n",
              "5   4      297     352.1142 358.2380 -61.238000 3750.092644\n",
              "6   5      399     356.8028 352.1142  46.885800 2198.278242\n",
              "7   6      402     361.3225 356.8028  45.197220 2042.788696\n",
              "8   7      375     362.6903 361.3225  13.677498  187.073952\n",
              "9   8      349     361.3212 362.6903 -13.690252  187.422994\n",
              "10  9      386     363.7891 361.3212  24.678773  609.041856\n",
              "11 10      328     360.2102 363.7891 -35.789104 1280.859962\n",
              "12 11      389     363.0892 360.2102  28.789806  828.852955\n",
              "13 12      343     361.0803 363.0892 -20.089174  403.574920\n",
              "14 13      276     352.5722 361.0803 -85.080257 7238.650095\n",
              "15 14      334     350.7150 352.5722 -18.572231  344.927768\n",
              "16 15      394     355.0435 350.7150  43.284992 1873.590533\n",
              "17 16      334     352.9392 355.0435 -21.043507  442.829195\n",
              "18 17      384     356.0452 352.9392  31.060844  964.776000\n",
              "19 18      314     351.8407 356.0452 -42.045241 1767.802276\n",
              "20 19      344     351.0566 351.8407  -7.840717   61.476839\n",
              "21 20      337     349.6510 351.0566 -14.056645  197.589271\n",
              "22 21      345     349.1859 349.6510  -4.650981   21.631620\n",
              "23 22      362     350.4673 349.1859  12.814117  164.201607\n",
              "24 23      314     346.8206 350.4673 -36.467294 1329.863550\n",
              "25 24      365     348.6385 346.8206  18.179435  330.491863"
            ]
          },
          "metadata": {}
        }
      ]
    },
    {
      "cell_type": "markdown",
      "source": [
        "Para alfa= 0.034"
      ],
      "metadata": {
        "id": "I_YXOe6lGRh8"
      }
    },
    {
      "cell_type": "code",
      "source": [
        "alfa1<-0.034\n",
        "Lt[1]<-L0\n",
        "for (i in 2:n)\n",
        "{ \n",
        "  Lt[i]<-alfa1*Bacalao[i]+(1-alfa1)*Lt[i-1]\n",
        "  Pt[i]<-Lt[i-1]\n",
        "  Et[i]<-(Bacalao[i:(n-1)]-Pt[i:(n-1)])\n",
        "  Et2[i]<-((Et[i])^2)\n",
        "}\n",
        "E<-data.frame(Periodo,Bacalao,Lt,Pt,Et,Et2)\n",
        "E"
      ],
      "metadata": {
        "colab": {
          "base_uri": "https://localhost:8080/",
          "height": 1000
        },
        "id": "1H3Zd4tjGVjK",
        "outputId": "038eb7bc-c887-470f-e3e5-f6bca29aea89"
      },
      "execution_count": 3,
      "outputs": [
        {
          "output_type": "stream",
          "name": "stderr",
          "text": [
            "Warning message in Et[i] <- (Bacalao[i:(n - 1)] - Pt[i:(n - 1)]):\n",
            "“number of items to replace is not a multiple of replacement length”\n",
            "Warning message in Et[i] <- (Bacalao[i:(n - 1)] - Pt[i:(n - 1)]):\n",
            "“number of items to replace is not a multiple of replacement length”\n",
            "Warning message in Et[i] <- (Bacalao[i:(n - 1)] - Pt[i:(n - 1)]):\n",
            "“number of items to replace is not a multiple of replacement length”\n",
            "Warning message in Et[i] <- (Bacalao[i:(n - 1)] - Pt[i:(n - 1)]):\n",
            "“number of items to replace is not a multiple of replacement length”\n",
            "Warning message in Et[i] <- (Bacalao[i:(n - 1)] - Pt[i:(n - 1)]):\n",
            "“number of items to replace is not a multiple of replacement length”\n",
            "Warning message in Et[i] <- (Bacalao[i:(n - 1)] - Pt[i:(n - 1)]):\n",
            "“number of items to replace is not a multiple of replacement length”\n",
            "Warning message in Et[i] <- (Bacalao[i:(n - 1)] - Pt[i:(n - 1)]):\n",
            "“number of items to replace is not a multiple of replacement length”\n",
            "Warning message in Et[i] <- (Bacalao[i:(n - 1)] - Pt[i:(n - 1)]):\n",
            "“number of items to replace is not a multiple of replacement length”\n",
            "Warning message in Et[i] <- (Bacalao[i:(n - 1)] - Pt[i:(n - 1)]):\n",
            "“number of items to replace is not a multiple of replacement length”\n",
            "Warning message in Et[i] <- (Bacalao[i:(n - 1)] - Pt[i:(n - 1)]):\n",
            "“number of items to replace is not a multiple of replacement length”\n",
            "Warning message in Et[i] <- (Bacalao[i:(n - 1)] - Pt[i:(n - 1)]):\n",
            "“number of items to replace is not a multiple of replacement length”\n",
            "Warning message in Et[i] <- (Bacalao[i:(n - 1)] - Pt[i:(n - 1)]):\n",
            "“number of items to replace is not a multiple of replacement length”\n",
            "Warning message in Et[i] <- (Bacalao[i:(n - 1)] - Pt[i:(n - 1)]):\n",
            "“number of items to replace is not a multiple of replacement length”\n",
            "Warning message in Et[i] <- (Bacalao[i:(n - 1)] - Pt[i:(n - 1)]):\n",
            "“number of items to replace is not a multiple of replacement length”\n",
            "Warning message in Et[i] <- (Bacalao[i:(n - 1)] - Pt[i:(n - 1)]):\n",
            "“number of items to replace is not a multiple of replacement length”\n",
            "Warning message in Et[i] <- (Bacalao[i:(n - 1)] - Pt[i:(n - 1)]):\n",
            "“number of items to replace is not a multiple of replacement length”\n",
            "Warning message in Et[i] <- (Bacalao[i:(n - 1)] - Pt[i:(n - 1)]):\n",
            "“number of items to replace is not a multiple of replacement length”\n",
            "Warning message in Et[i] <- (Bacalao[i:(n - 1)] - Pt[i:(n - 1)]):\n",
            "“number of items to replace is not a multiple of replacement length”\n",
            "Warning message in Et[i] <- (Bacalao[i:(n - 1)] - Pt[i:(n - 1)]):\n",
            "“number of items to replace is not a multiple of replacement length”\n",
            "Warning message in Et[i] <- (Bacalao[i:(n - 1)] - Pt[i:(n - 1)]):\n",
            "“number of items to replace is not a multiple of replacement length”\n",
            "Warning message in Et[i] <- (Bacalao[i:(n - 1)] - Pt[i:(n - 1)]):\n",
            "“number of items to replace is not a multiple of replacement length”\n",
            "Warning message in Et[i] <- (Bacalao[i:(n - 1)] - Pt[i:(n - 1)]):\n",
            "“number of items to replace is not a multiple of replacement length”\n",
            "Warning message in Et[i] <- (Bacalao[i:(n - 1)] - Pt[i:(n - 1)]):\n",
            "“number of items to replace is not a multiple of replacement length”\n"
          ]
        },
        {
          "output_type": "display_data",
          "data": {
            "text/html": [
              "<table class=\"dataframe\">\n",
              "<caption>A data.frame: 25 × 6</caption>\n",
              "<thead>\n",
              "\t<tr><th scope=col>Periodo</th><th scope=col>Bacalao</th><th scope=col>Lt</th><th scope=col>Pt</th><th scope=col>Et</th><th scope=col>Et2</th></tr>\n",
              "\t<tr><th scope=col>&lt;int&gt;</th><th scope=col>&lt;dbl&gt;</th><th scope=col>&lt;dbl&gt;</th><th scope=col>&lt;dbl&gt;</th><th scope=col>&lt;dbl&gt;</th><th scope=col>&lt;dbl&gt;</th></tr>\n",
              "</thead>\n",
              "<tbody>\n",
              "\t<tr><td> 0</td><td>  0</td><td>360.6667</td><td>  0.0000</td><td>  0.000000</td><td>   0.000000</td></tr>\n",
              "\t<tr><td> 1</td><td>362</td><td>360.7120</td><td>360.6667</td><td>  1.333333</td><td>   1.777778</td></tr>\n",
              "\t<tr><td> 2</td><td>381</td><td>361.4018</td><td>360.7120</td><td> 20.288000</td><td> 411.602944</td></tr>\n",
              "\t<tr><td> 3</td><td>317</td><td>359.8921</td><td>361.4018</td><td>-44.401792</td><td>1971.519133</td></tr>\n",
              "\t<tr><td> 4</td><td>297</td><td>357.7538</td><td>359.8921</td><td>-62.892131</td><td>3955.420151</td></tr>\n",
              "\t<tr><td> 5</td><td>399</td><td>359.1562</td><td>357.7538</td><td> 41.246201</td><td>1701.249129</td></tr>\n",
              "\t<tr><td> 6</td><td>402</td><td>360.6129</td><td>359.1562</td><td> 42.843831</td><td>1835.593815</td></tr>\n",
              "\t<tr><td> 7</td><td>375</td><td>361.1020</td><td>360.6129</td><td> 14.387140</td><td> 206.989806</td></tr>\n",
              "\t<tr><td> 8</td><td>349</td><td>360.6906</td><td>361.1020</td><td>-12.102022</td><td> 146.458948</td></tr>\n",
              "\t<tr><td> 9</td><td>386</td><td>361.5511</td><td>360.6906</td><td> 25.309446</td><td> 640.568072</td></tr>\n",
              "\t<tr><td>10</td><td>328</td><td>360.4103</td><td>361.5511</td><td>-33.551075</td><td>1125.674626</td></tr>\n",
              "\t<tr><td>11</td><td>389</td><td>361.3824</td><td>360.4103</td><td> 28.589662</td><td> 817.368754</td></tr>\n",
              "\t<tr><td>12</td><td>343</td><td>360.7574</td><td>361.3824</td><td>-18.382387</td><td> 337.912146</td></tr>\n",
              "\t<tr><td>13</td><td>276</td><td>357.8756</td><td>360.7574</td><td>-84.757386</td><td>7183.814427</td></tr>\n",
              "\t<tr><td>14</td><td>334</td><td>357.0639</td><td>357.8756</td><td>-23.875635</td><td> 570.045926</td></tr>\n",
              "\t<tr><td>15</td><td>394</td><td>358.3197</td><td>357.0639</td><td> 36.936137</td><td>1364.278217</td></tr>\n",
              "\t<tr><td>16</td><td>334</td><td>357.4928</td><td>358.3197</td><td>-24.319692</td><td> 591.447402</td></tr>\n",
              "\t<tr><td>17</td><td>384</td><td>358.3941</td><td>357.4928</td><td> 26.507178</td><td> 702.630478</td></tr>\n",
              "\t<tr><td>18</td><td>314</td><td>356.8847</td><td>358.3941</td><td>-44.394066</td><td>1970.833112</td></tr>\n",
              "\t<tr><td>19</td><td>344</td><td>356.4466</td><td>356.8847</td><td>-12.884668</td><td> 166.014668</td></tr>\n",
              "\t<tr><td>20</td><td>337</td><td>355.7854</td><td>356.4466</td><td>-19.446589</td><td> 378.169832</td></tr>\n",
              "\t<tr><td>21</td><td>345</td><td>355.4187</td><td>355.7854</td><td>-10.785405</td><td> 116.324965</td></tr>\n",
              "\t<tr><td>22</td><td>362</td><td>355.6425</td><td>355.4187</td><td>  6.581299</td><td>  43.313491</td></tr>\n",
              "\t<tr><td>23</td><td>314</td><td>354.2266</td><td>355.6425</td><td>-41.642466</td><td>1734.094938</td></tr>\n",
              "\t<tr><td>24</td><td>365</td><td>354.5929</td><td>354.2266</td><td> 10.773378</td><td> 116.065679</td></tr>\n",
              "</tbody>\n",
              "</table>\n"
            ],
            "text/markdown": "\nA data.frame: 25 × 6\n\n| Periodo &lt;int&gt; | Bacalao &lt;dbl&gt; | Lt &lt;dbl&gt; | Pt &lt;dbl&gt; | Et &lt;dbl&gt; | Et2 &lt;dbl&gt; |\n|---|---|---|---|---|---|\n|  0 |   0 | 360.6667 |   0.0000 |   0.000000 |    0.000000 |\n|  1 | 362 | 360.7120 | 360.6667 |   1.333333 |    1.777778 |\n|  2 | 381 | 361.4018 | 360.7120 |  20.288000 |  411.602944 |\n|  3 | 317 | 359.8921 | 361.4018 | -44.401792 | 1971.519133 |\n|  4 | 297 | 357.7538 | 359.8921 | -62.892131 | 3955.420151 |\n|  5 | 399 | 359.1562 | 357.7538 |  41.246201 | 1701.249129 |\n|  6 | 402 | 360.6129 | 359.1562 |  42.843831 | 1835.593815 |\n|  7 | 375 | 361.1020 | 360.6129 |  14.387140 |  206.989806 |\n|  8 | 349 | 360.6906 | 361.1020 | -12.102022 |  146.458948 |\n|  9 | 386 | 361.5511 | 360.6906 |  25.309446 |  640.568072 |\n| 10 | 328 | 360.4103 | 361.5511 | -33.551075 | 1125.674626 |\n| 11 | 389 | 361.3824 | 360.4103 |  28.589662 |  817.368754 |\n| 12 | 343 | 360.7574 | 361.3824 | -18.382387 |  337.912146 |\n| 13 | 276 | 357.8756 | 360.7574 | -84.757386 | 7183.814427 |\n| 14 | 334 | 357.0639 | 357.8756 | -23.875635 |  570.045926 |\n| 15 | 394 | 358.3197 | 357.0639 |  36.936137 | 1364.278217 |\n| 16 | 334 | 357.4928 | 358.3197 | -24.319692 |  591.447402 |\n| 17 | 384 | 358.3941 | 357.4928 |  26.507178 |  702.630478 |\n| 18 | 314 | 356.8847 | 358.3941 | -44.394066 | 1970.833112 |\n| 19 | 344 | 356.4466 | 356.8847 | -12.884668 |  166.014668 |\n| 20 | 337 | 355.7854 | 356.4466 | -19.446589 |  378.169832 |\n| 21 | 345 | 355.4187 | 355.7854 | -10.785405 |  116.324965 |\n| 22 | 362 | 355.6425 | 355.4187 |   6.581299 |   43.313491 |\n| 23 | 314 | 354.2266 | 355.6425 | -41.642466 | 1734.094938 |\n| 24 | 365 | 354.5929 | 354.2266 |  10.773378 |  116.065679 |\n\n",
            "text/latex": "A data.frame: 25 × 6\n\\begin{tabular}{llllll}\n Periodo & Bacalao & Lt & Pt & Et & Et2\\\\\n <int> & <dbl> & <dbl> & <dbl> & <dbl> & <dbl>\\\\\n\\hline\n\t  0 &   0 & 360.6667 &   0.0000 &   0.000000 &    0.000000\\\\\n\t  1 & 362 & 360.7120 & 360.6667 &   1.333333 &    1.777778\\\\\n\t  2 & 381 & 361.4018 & 360.7120 &  20.288000 &  411.602944\\\\\n\t  3 & 317 & 359.8921 & 361.4018 & -44.401792 & 1971.519133\\\\\n\t  4 & 297 & 357.7538 & 359.8921 & -62.892131 & 3955.420151\\\\\n\t  5 & 399 & 359.1562 & 357.7538 &  41.246201 & 1701.249129\\\\\n\t  6 & 402 & 360.6129 & 359.1562 &  42.843831 & 1835.593815\\\\\n\t  7 & 375 & 361.1020 & 360.6129 &  14.387140 &  206.989806\\\\\n\t  8 & 349 & 360.6906 & 361.1020 & -12.102022 &  146.458948\\\\\n\t  9 & 386 & 361.5511 & 360.6906 &  25.309446 &  640.568072\\\\\n\t 10 & 328 & 360.4103 & 361.5511 & -33.551075 & 1125.674626\\\\\n\t 11 & 389 & 361.3824 & 360.4103 &  28.589662 &  817.368754\\\\\n\t 12 & 343 & 360.7574 & 361.3824 & -18.382387 &  337.912146\\\\\n\t 13 & 276 & 357.8756 & 360.7574 & -84.757386 & 7183.814427\\\\\n\t 14 & 334 & 357.0639 & 357.8756 & -23.875635 &  570.045926\\\\\n\t 15 & 394 & 358.3197 & 357.0639 &  36.936137 & 1364.278217\\\\\n\t 16 & 334 & 357.4928 & 358.3197 & -24.319692 &  591.447402\\\\\n\t 17 & 384 & 358.3941 & 357.4928 &  26.507178 &  702.630478\\\\\n\t 18 & 314 & 356.8847 & 358.3941 & -44.394066 & 1970.833112\\\\\n\t 19 & 344 & 356.4466 & 356.8847 & -12.884668 &  166.014668\\\\\n\t 20 & 337 & 355.7854 & 356.4466 & -19.446589 &  378.169832\\\\\n\t 21 & 345 & 355.4187 & 355.7854 & -10.785405 &  116.324965\\\\\n\t 22 & 362 & 355.6425 & 355.4187 &   6.581299 &   43.313491\\\\\n\t 23 & 314 & 354.2266 & 355.6425 & -41.642466 & 1734.094938\\\\\n\t 24 & 365 & 354.5929 & 354.2266 &  10.773378 &  116.065679\\\\\n\\end{tabular}\n",
            "text/plain": [
              "   Periodo Bacalao Lt       Pt       Et         Et2        \n",
              "1   0        0     360.6667   0.0000   0.000000    0.000000\n",
              "2   1      362     360.7120 360.6667   1.333333    1.777778\n",
              "3   2      381     361.4018 360.7120  20.288000  411.602944\n",
              "4   3      317     359.8921 361.4018 -44.401792 1971.519133\n",
              "5   4      297     357.7538 359.8921 -62.892131 3955.420151\n",
              "6   5      399     359.1562 357.7538  41.246201 1701.249129\n",
              "7   6      402     360.6129 359.1562  42.843831 1835.593815\n",
              "8   7      375     361.1020 360.6129  14.387140  206.989806\n",
              "9   8      349     360.6906 361.1020 -12.102022  146.458948\n",
              "10  9      386     361.5511 360.6906  25.309446  640.568072\n",
              "11 10      328     360.4103 361.5511 -33.551075 1125.674626\n",
              "12 11      389     361.3824 360.4103  28.589662  817.368754\n",
              "13 12      343     360.7574 361.3824 -18.382387  337.912146\n",
              "14 13      276     357.8756 360.7574 -84.757386 7183.814427\n",
              "15 14      334     357.0639 357.8756 -23.875635  570.045926\n",
              "16 15      394     358.3197 357.0639  36.936137 1364.278217\n",
              "17 16      334     357.4928 358.3197 -24.319692  591.447402\n",
              "18 17      384     358.3941 357.4928  26.507178  702.630478\n",
              "19 18      314     356.8847 358.3941 -44.394066 1970.833112\n",
              "20 19      344     356.4466 356.8847 -12.884668  166.014668\n",
              "21 20      337     355.7854 356.4466 -19.446589  378.169832\n",
              "22 21      345     355.4187 355.7854 -10.785405  116.324965\n",
              "23 22      362     355.6425 355.4187   6.581299   43.313491\n",
              "24 23      314     354.2266 355.6425 -41.642466 1734.094938\n",
              "25 24      365     354.5929 354.2266  10.773378  116.065679"
            ]
          },
          "metadata": {}
        }
      ]
    },
    {
      "cell_type": "markdown",
      "source": [
        "Error estándar SSE"
      ],
      "metadata": {
        "id": "7FOQjoGxGdJq"
      }
    },
    {
      "cell_type": "code",
      "source": [
        "t<-24\n",
        "SSE<-sum(Et2)\n",
        "S<-sqrt(SSE/(t-1))"
      ],
      "metadata": {
        "id": "9Mls2M98Gh0G"
      },
      "execution_count": 4,
      "outputs": []
    }
  ]
}