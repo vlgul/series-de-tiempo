{
  "nbformat": 4,
  "nbformat_minor": 0,
  "metadata": {
    "colab": {
      "provenance": [],
      "authorship_tag": "ABX9TyPMZVC8xxmDCKqxVkWrdA62",
      "include_colab_link": true
    },
    "kernelspec": {
      "name": "ir",
      "display_name": "R"
    },
    "language_info": {
      "name": "R"
    }
  },
  "cells": [
    {
      "cell_type": "markdown",
      "metadata": {
        "id": "view-in-github",
        "colab_type": "text"
      },
      "source": [
        "<a href=\"https://colab.research.google.com/github/vlgul/series-de-tiempo/blob/main/Capitulo_8_Suavizaci%C3%B3n_exponencial.ipynb\" target=\"_parent\"><img src=\"https://colab.research.google.com/assets/colab-badge.svg\" alt=\"Open In Colab\"/></a>"
      ]
    },
    {
      "cell_type": "markdown",
      "source": [
        "## **Capitulo 8:  Suavización exponencial** ###\n",
        "\n",
        "### 8.5. Método multiplicativo de Holt-Winters ###\n",
        "\n",
        "Ejemplo: Las ventas trimestrales (en miles de envases) de Tiger Sports Drinks de los últimos ocho años se proporcionan en la tabla 8.2, se pretende generar una gráfica de las ventas. En dicha gráfica se señala que hay un incremento lineal en las ventas del periodo de ocho años, y que el patrón estacional es creciente cuando aumenta el nivel de la serie temporal. Este patrón sugiera que el método multiplicativo de Holt-Winters podria aplicarse para pronosticar ventas futuras.\n",
        "\n",
        "Variables:\n",
        "Lt: Nivel de estimación\n",
        "Bt: Tasa de crecimiento.\n",
        "Snt: Factor estacional.\n",
        "Pt: Pronóstico hecho en el último periodo.\n",
        "Et: Error de pronóstico.\n",
        "Et2: Error cuadrado del pronóstico.\n",
        "Yest: Estimaciones de regresión.\n",
        "St: Información sin tendencia.\n",
        "Ert: Error estándar relativo.\n",
        "Sn_3, Sn_2, Sn_1, S0: Prom. de factores estacionales con L=4 Factores\n",
        "It: Vector donde se almacena los valores del índice en It con los factores estacionales promedio."
      ],
      "metadata": {
        "id": "itxR1vGUKn9C"
      }
    },
    {
      "cell_type": "code",
      "execution_count": 1,
      "metadata": {
        "id": "2tsOygglolsd"
      },
      "outputs": [],
      "source": [
        "n<-33\n",
        "Lt<-double(n)\n",
        "Bt<-double(n)\n",
        "Et<-double(n)\n",
        "Et2<-double(n)\n",
        "Pt<-double(n)\n",
        "St<-double(n)\n",
        "Snt<-double(n)\n",
        "It<-double(n)\n",
        "Yest<-double(n)\n",
        "Ert<-double(n)"
      ]
    },
    {
      "cell_type": "markdown",
      "source": [
        "Agregar datos de ventas de bebidas del periodo 0 al 12."
      ],
      "metadata": {
        "id": "lz7zbTJNq1iN"
      }
    },
    {
      "cell_type": "code",
      "source": [
        "t<-seq(0,32)\n",
        "Yt<-c(0,72,116,136,96,77,123,146,101,81,131,158,109,87,140,167,120,94,147,177,128,102,162,191,134,106,170,200,142,115,177,218,149)"
      ],
      "metadata": {
        "id": "1hvOjOk7q0a5"
      },
      "execution_count": null,
      "outputs": []
    },
    {
      "cell_type": "markdown",
      "source": [
        "Graficar datos de ventas de bicicletas de montaña del periodo 0 al 32."
      ],
      "metadata": {
        "id": "BTp9-0EyrU4h"
      }
    },
    {
      "cell_type": "code",
      "source": [
        "plot(t[(2:33)],Yt[(2:33)],main=\"Ventas trimestrales de Tiger Sports Drink\",\n",
        "     xlab=\"Trimestres\",ylab=\"Miles de envases\",\n",
        "     type=\"o\",pch = 19,\n",
        "     col=\"blue\")\n",
        "abline(h = mean(Yt), col=\"red\", lwd=3, lty=2)"
      ],
      "metadata": {
        "id": "-jrkMK09rX_i"
      },
      "execution_count": null,
      "outputs": []
    },
    {
      "cell_type": "markdown",
      "source": [
        "Ajustar una recta de tendencia de mínimos cuadrados a la mitad de los datos totales n=32, n/2=16 y extraer valores para estimación inicial de los coeficientes para asignar a L0 y B0."
      ],
      "metadata": {
        "id": "HlQygRUQrgGv"
      }
    },
    {
      "cell_type": "code",
      "source": [
        "f <- lm(Yt[2:17] ~ t[2:17])\n",
        "Reg<-summary(f)\n",
        "L0<-Reg$coefficients[1]\n",
        "B0<-Reg$coefficients[2]\n",
        "f"
      ],
      "metadata": {
        "id": "r402bwgurvK0"
      },
      "execution_count": null,
      "outputs": []
    },
    {
      "cell_type": "markdown",
      "source": [
        "Agregar valor inicial de coeficientes al nivel, la tasa de crecimiento y definir constantes de suavizacion alfa=0.2, gamma=0.1 y delta=0.1"
      ],
      "metadata": {
        "id": "FuwnJuBmsSkB"
      }
    },
    {
      "cell_type": "code",
      "source": [
        "Lt[1]<-L0\n",
        "Bt[1]<-B0\n",
        "alfa<-0.2\n",
        "gamma<-0.1 \n",
        "delta<-0.1"
      ],
      "metadata": {
        "id": "AWfJIpcFsdUy"
      },
      "execution_count": null,
      "outputs": []
    },
    {
      "cell_type": "markdown",
      "source": [
        "Calcular las estimaciones de regresión sin tendencia"
      ],
      "metadata": {
        "id": "5K9fg3Umsl1p"
      }
    },
    {
      "cell_type": "code",
      "source": [
        "for (i in 2:n){\n",
        "  Yest[i]<-Lt[1]+Bt[1]*(i-1)\n",
        "  St[i]<-Yt[i]/Yest[i]\n",
        "}"
      ],
      "metadata": {
        "id": "ag1L9Pzosrt-"
      },
      "execution_count": null,
      "outputs": []
    },
    {
      "cell_type": "markdown",
      "source": [
        "Calcular factor estacional para L = 4, Sn_3, Sn_2, Sn_1, Sn0 y guardar valores en el vector It que almacene la información replicada para el índice promedio."
      ],
      "metadata": {
        "id": "dX2P8v0qswON"
      }
    },
    {
      "cell_type": "code",
      "source": [
        "Sn_3<-((Yt[2]/Yest[2])+(Yt[6]/Yest[6])+(Yt[10]/Yest[10])+(Yt[14]/Yest[14]))/4\n",
        "Sn_2<-((Yt[3]/Yest[3])+(Yt[7]/Yest[7])+(Yt[11]/Yest[11])+(Yt[15]/Yest[15]))/4\n",
        "Sn_1<-((Yt[4]/Yest[4])+(Yt[8]/Yest[8])+(Yt[12]/Yest[12])+(Yt[16]/Yest[16]))/4\n",
        "S0<-((Yt[5]/Yest[5])+(Yt[9]/Yest[9])+(Yt[13]/Yest[13])+(Yt[17]/Yest[17]))/4\n",
        "SumProm<-Sn_3+Sn_2+Sn_1+S0\n",
        "It[seq (1,n,by=4)]<-Sn_3\n",
        "It[seq (2,n,by=4)]<-Sn_2\n",
        "It[seq (3,n,by=4)]<-Sn_1\n",
        "It[seq (4,n,by=4)]<-S0"
      ],
      "metadata": {
        "id": "rR3pZku2tCK4"
      },
      "execution_count": null,
      "outputs": []
    },
    {
      "cell_type": "markdown",
      "source": [
        "Generar el cálculo de datos respecto a las variables Pt ,Lt, Bt, y Snt,para t>2, con los errores cuadráticos relativo. "
      ],
      "metadata": {
        "id": "KWX7mHLytN7U"
      }
    },
    {
      "cell_type": "code",
      "source": [
        "for (i in 2:n){\n",
        "  Pt[i]<-(Lt[(i-1)]+Bt[(i-1)])*It[i-1]\n",
        "  Et[i]<-Yt[i]-Pt[i]\n",
        "  Lt[i]<-alfa*(Yt[i]/It[i-1])+((1-alfa)*(Lt[(i-1)]+Bt[(i-1)]))\n",
        "  Bt[i]<-delta*(Lt[i]-Lt[i-1])+((1-delta)*Bt[(i-1)])\n",
        "  Snt[i]<-gamma*(Yt[i]/Lt[i])+((1-gamma)*It[i-1])\n",
        "  Et2[i]<-Et[i]^2\n",
        "  Ert[i]<-((Yt[i]-Pt[i])/Pt[i])^2\n",
        "}"
      ],
      "metadata": {
        "id": "geZjihb0tZBu"
      },
      "execution_count": null,
      "outputs": []
    },
    {
      "cell_type": "markdown",
      "source": [
        "Visualizar los valores resultantes en formato de tabla de Fig. 8.12"
      ],
      "metadata": {
        "id": "xIG7gAC2trvw"
      }
    },
    {
      "cell_type": "code",
      "source": [
        "Bebidas<-data.frame(t,Yt,Yest,St,Lt,Bt,Snt,Pt,Et,Et2,Ert,It)"
      ],
      "metadata": {
        "id": "r-GDxLRFtxRQ"
      },
      "execution_count": null,
      "outputs": []
    },
    {
      "cell_type": "markdown",
      "source": [
        "Valor del error estandar SSE para calcular el error de pronostico St"
      ],
      "metadata": {
        "id": "6lprPC5ct6VK"
      }
    },
    {
      "cell_type": "code",
      "source": [
        "SSRE<-sum(Ert)\n",
        "Sr<-sqrt(SSRE/29)"
      ],
      "metadata": {
        "id": "m6kvtCazt-a3"
      },
      "execution_count": null,
      "outputs": []
    },
    {
      "cell_type": "markdown",
      "source": [
        "Reproducir los valores resultantes en formato de tabla de Fig. 8.14(b) con los valores nuevos para alfa<-0.336, gamma<-0.046, delta1<-0.134."
      ],
      "metadata": {
        "id": "g76Nlb6Bui2R"
      }
    },
    {
      "cell_type": "code",
      "source": [
        "alfa1<-0.336\n",
        "gamma1<-0.046\n",
        "delta1<-0.134"
      ],
      "metadata": {
        "id": "VFE6ncS9urxH"
      },
      "execution_count": null,
      "outputs": []
    },
    {
      "cell_type": "code",
      "source": [
        "for (i in 2:n){\n",
        "  Pt[i]<-(Lt[(i-1)]+Bt[(i-1)])*It[i-1]\n",
        "  Et[i]<-Yt[i]-Pt[i]\n",
        "  Lt[i]<-alfa1*(Yt[i]/It[i-1])+((1-alfa1)*(Lt[(i-1)]+Bt[(i-1)]))\n",
        "  Bt[i]<-delta1*(Lt[i]-Lt[i-1])+((1-delta1)*Bt[(i-1)])\n",
        "  Snt[i]<-gamma1*(Yt[i]/Lt[i])+((1-gamma1)*It[i-1])\n",
        "  Et2[i]<-Et[i]^2\n",
        "  Ert[i]<-((Yt[i]-Pt[i])/Pt[i])^2\n",
        "}"
      ],
      "metadata": {
        "id": "9qsXO8dGu7Bz"
      },
      "execution_count": null,
      "outputs": []
    },
    {
      "cell_type": "markdown",
      "source": [
        "Visualizar los valores resultantes en formato de tabla de Fig. 8.14(b)"
      ],
      "metadata": {
        "id": "gx0ppLDYu_kE"
      }
    },
    {
      "cell_type": "code",
      "source": [
        "Bebidas1<-data.frame(t,Yt,Yest,St,Lt,Bt,Snt,Pt,Et,Et2,Ert,It)"
      ],
      "metadata": {
        "id": "IlMj_eEXvEUi"
      },
      "execution_count": null,
      "outputs": []
    },
    {
      "cell_type": "markdown",
      "source": [
        "Generar intervalos de prediccion del 95% para Yest=33,34,35,36. Z=1.96"
      ],
      "metadata": {
        "id": "zadFSGXPvHyf"
      }
    },
    {
      "cell_type": "markdown",
      "source": [
        "Para Yest=33 para un intervalo de predicción del 95%"
      ],
      "metadata": {
        "id": "sj5BGp6KvOfI"
      }
    },
    {
      "cell_type": "code",
      "source": [
        "Z<-qnorm(0.975, mean = 0, sd = 1)\n",
        "Yest33<-(Lt[32]+Bt[32])*It[29]\n",
        "Y33i<-Yest33-Z*Sr*sqrt((Lt[32]+Bt[32])^2)*It[29]\n",
        "Y33s<-Yest33+Z*Sr*sqrt((Lt[32]+Bt[32])^2)*It[29]\n",
        "cat(\"Valor Inferior =\",Y33i,\"\\n\")\n",
        "cat(\"Valor Superior =\",Y33s)"
      ],
      "metadata": {
        "colab": {
          "base_uri": "https://localhost:8080/",
          "height": 34
        },
        "id": "ZeSY7QO1vXmm",
        "outputId": "7347fdaa-964e-42c0-db0c-20d0ca4fc7a8"
      },
      "execution_count": 4,
      "outputs": [
        {
          "output_type": "display_data",
          "data": {
            "text/html": [
              "1.95996398454005"
            ],
            "text/markdown": "1.95996398454005",
            "text/latex": "1.95996398454005",
            "text/plain": [
              "[1] 1.959964"
            ]
          },
          "metadata": {}
        }
      ]
    },
    {
      "cell_type": "markdown",
      "source": [
        "Para Yest=34 para un intervalo de predicción del 95%"
      ],
      "metadata": {
        "id": "Lki4cCcEvoFu"
      }
    },
    {
      "cell_type": "code",
      "source": [
        "Yest34<-(Lt[32]+2*Bt[32])*It[30]\n",
        "C2<-(alfa1)^2*(1+delta1)*(Lt[32]+Bt[32])^2+(Lt[32]+2*Bt[32])^2\n",
        "Y34i<-Yest34-Z*Sr*sqrt(C2)*It[30]\n",
        "Y34s<-Yest34+Z*Sr*sqrt(C2)*It[30]\n",
        "cat(\"Valor Inferior =\",Y34i,\"\\n\")\n",
        "cat(\"Valor Superior =\",Y34s)"
      ],
      "metadata": {
        "id": "GEPV2hylvr4h"
      },
      "execution_count": null,
      "outputs": []
    },
    {
      "cell_type": "markdown",
      "source": [
        "Para Yest=35 para un intervalo de predicción del 95%"
      ],
      "metadata": {
        "id": "4bbVLCpVv48C"
      }
    },
    {
      "cell_type": "code",
      "source": [
        "Yest35<-(Lt[32]+3*Bt[32])*It[31]\n",
        "C3<-(alfa1)^2*(1+delta1)*(Lt[32]+Bt[32])^2+(Lt[32]+3*Bt[32])^2\n",
        "Y35i<-Yest34-Z*Sr*sqrt(C3)*It[31]\n",
        "Y35s<-Yest34+Z*Sr*sqrt(C3)*It[31]\n",
        "cat(\"Valor Inferior =\",Y35i,\"\\n\")\n",
        "cat(\"Valor Superior =\",Y35s)"
      ],
      "metadata": {
        "id": "_tYuNGZwv851"
      },
      "execution_count": null,
      "outputs": []
    },
    {
      "cell_type": "markdown",
      "source": [
        "Para Yest=36 para un intervalo de predicción del 95%"
      ],
      "metadata": {
        "id": "Kfad6YcUwELi"
      }
    },
    {
      "cell_type": "code",
      "source": [
        "Yest36<-(Lt[32]+4*Bt[32])*It[32]\n",
        "C4<-(alfa1)^2*(1+delta1)*(Lt[32]+Bt[32])^2+(Lt[32]+4*Bt[32])^2\n",
        "Y36i<-Yest36-Z*Sr*sqrt(C4)*It[32]\n",
        "Y36s<-Yest36+Z*Sr*sqrt(C4)*It[32]\n",
        "cat(\"Valor Inferior =\",Y36i,\"\\n\")\n",
        "cat(\"Valor Superior =\",Y36s)"
      ],
      "metadata": {
        "id": "NgJsZeLVqO6r"
      },
      "execution_count": null,
      "outputs": []
    }
  ]
}