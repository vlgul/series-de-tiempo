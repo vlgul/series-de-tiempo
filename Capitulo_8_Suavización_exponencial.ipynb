{
  "nbformat": 4,
  "nbformat_minor": 0,
  "metadata": {
    "colab": {
      "provenance": [],
      "authorship_tag": "ABX9TyPX33lCOhyusfbJRj3x39UC",
      "include_colab_link": true
    },
    "kernelspec": {
      "name": "ir",
      "display_name": "R"
    },
    "language_info": {
      "name": "R"
    }
  },
  "cells": [
    {
      "cell_type": "markdown",
      "metadata": {
        "id": "view-in-github",
        "colab_type": "text"
      },
      "source": [
        "<a href=\"https://colab.research.google.com/github/vlgul/series-de-tiempo/blob/main/Capitulo_8_Suavizaci%C3%B3n_exponencial.ipynb\" target=\"_parent\"><img src=\"https://colab.research.google.com/assets/colab-badge.svg\" alt=\"Open In Colab\"/></a>"
      ]
    },
    {
      "cell_type": "markdown",
      "source": [
        "## **Capitulo 8:  Suavización exponencial** ###\n",
        "\n",
        "### 8.5. Método multiplicativo de Holt-Winters ###\n",
        "\n",
        "Ejemplo: Las ventas trimestrales (en miles de envases) de Tiger Sports Drinks de los últimos ocho años se proporcionan en la tabla 8.2, se pretende generar una gráfica de las ventas. En dicha gráfica se señala que hay un incremento lineal en las ventas del periodo de ocho años, y que el patrón estacional es creciente cuando aumenta el nivel de la serie temporal. Este patrón sugiera que el método multiplicativo de Holt-Winters podria aplicarse para pronosticar ventas futuras.\n",
        "\n",
        "Variables:\n",
        "Lt: Nivel de estimación\n",
        "Bt: Tasa de crecimiento.\n",
        "Snt: Factor estacional.\n",
        "Pt: Pronóstico hecho en el último periodo.\n",
        "Et: Error de pronóstico.\n",
        "Et2: Error cuadrado del pronóstico.\n",
        "Yest: Estimaciones de regresión.\n",
        "St: Información sin tendencia.\n",
        "Ert: Error estándar relativo.\n",
        "Sn_3, Sn_2, Sn_1, S0: Prom. de factores estacionales con L=4 Factores\n",
        "It: Vector donde se almacena los valores del índice en It con los factores estacionales promedio."
      ],
      "metadata": {
        "id": "itxR1vGUKn9C"
      }
    },
    {
      "cell_type": "code",
      "execution_count": 5,
      "metadata": {
        "id": "2tsOygglolsd"
      },
      "outputs": [],
      "source": [
        "n<-33\n",
        "Lt<-double(n)\n",
        "Bt<-double(n)\n",
        "Et<-double(n)\n",
        "Et2<-double(n)\n",
        "Pt<-double(n)\n",
        "St<-double(n)\n",
        "Snt<-double(n)\n",
        "It<-double(n)\n",
        "Yest<-double(n)\n",
        "Ert<-double(n)"
      ]
    },
    {
      "cell_type": "markdown",
      "source": [
        "Agregar datos de ventas de bebidas del periodo 0 al 12."
      ],
      "metadata": {
        "id": "lz7zbTJNq1iN"
      }
    },
    {
      "cell_type": "code",
      "source": [
        "t<-seq(0,32)\n",
        "Yt<-c(0,72,116,136,96,77,123,146,101,81,131,158,109,87,140,167,120,94,147,177,128,102,162,191,134,106,170,200,142,115,177,218,149)\n",
        "t\n",
        "Yt"
      ],
      "metadata": {
        "colab": {
          "base_uri": "https://localhost:8080/",
          "height": 52
        },
        "id": "1hvOjOk7q0a5",
        "outputId": "8c0da0c3-e8ad-49a6-9de7-df5ec834f6f7"
      },
      "execution_count": 24,
      "outputs": [
        {
          "output_type": "display_data",
          "data": {
            "text/html": [
              "<style>\n",
              ".list-inline {list-style: none; margin:0; padding: 0}\n",
              ".list-inline>li {display: inline-block}\n",
              ".list-inline>li:not(:last-child)::after {content: \"\\00b7\"; padding: 0 .5ex}\n",
              "</style>\n",
              "<ol class=list-inline><li>0</li><li>1</li><li>2</li><li>3</li><li>4</li><li>5</li><li>6</li><li>7</li><li>8</li><li>9</li><li>10</li><li>11</li><li>12</li><li>13</li><li>14</li><li>15</li><li>16</li><li>17</li><li>18</li><li>19</li><li>20</li><li>21</li><li>22</li><li>23</li><li>24</li><li>25</li><li>26</li><li>27</li><li>28</li><li>29</li><li>30</li><li>31</li><li>32</li></ol>\n"
            ],
            "text/markdown": "1. 0\n2. 1\n3. 2\n4. 3\n5. 4\n6. 5\n7. 6\n8. 7\n9. 8\n10. 9\n11. 10\n12. 11\n13. 12\n14. 13\n15. 14\n16. 15\n17. 16\n18. 17\n19. 18\n20. 19\n21. 20\n22. 21\n23. 22\n24. 23\n25. 24\n26. 25\n27. 26\n28. 27\n29. 28\n30. 29\n31. 30\n32. 31\n33. 32\n\n\n",
            "text/latex": "\\begin{enumerate*}\n\\item 0\n\\item 1\n\\item 2\n\\item 3\n\\item 4\n\\item 5\n\\item 6\n\\item 7\n\\item 8\n\\item 9\n\\item 10\n\\item 11\n\\item 12\n\\item 13\n\\item 14\n\\item 15\n\\item 16\n\\item 17\n\\item 18\n\\item 19\n\\item 20\n\\item 21\n\\item 22\n\\item 23\n\\item 24\n\\item 25\n\\item 26\n\\item 27\n\\item 28\n\\item 29\n\\item 30\n\\item 31\n\\item 32\n\\end{enumerate*}\n",
            "text/plain": [
              " [1]  0  1  2  3  4  5  6  7  8  9 10 11 12 13 14 15 16 17 18 19 20 21 22 23 24\n",
              "[26] 25 26 27 28 29 30 31 32"
            ]
          },
          "metadata": {}
        },
        {
          "output_type": "display_data",
          "data": {
            "text/html": [
              "<style>\n",
              ".list-inline {list-style: none; margin:0; padding: 0}\n",
              ".list-inline>li {display: inline-block}\n",
              ".list-inline>li:not(:last-child)::after {content: \"\\00b7\"; padding: 0 .5ex}\n",
              "</style>\n",
              "<ol class=list-inline><li>0</li><li>72</li><li>116</li><li>136</li><li>96</li><li>77</li><li>123</li><li>146</li><li>101</li><li>81</li><li>131</li><li>158</li><li>109</li><li>87</li><li>140</li><li>167</li><li>120</li><li>94</li><li>147</li><li>177</li><li>128</li><li>102</li><li>162</li><li>191</li><li>134</li><li>106</li><li>170</li><li>200</li><li>142</li><li>115</li><li>177</li><li>218</li><li>149</li></ol>\n"
            ],
            "text/markdown": "1. 0\n2. 72\n3. 116\n4. 136\n5. 96\n6. 77\n7. 123\n8. 146\n9. 101\n10. 81\n11. 131\n12. 158\n13. 109\n14. 87\n15. 140\n16. 167\n17. 120\n18. 94\n19. 147\n20. 177\n21. 128\n22. 102\n23. 162\n24. 191\n25. 134\n26. 106\n27. 170\n28. 200\n29. 142\n30. 115\n31. 177\n32. 218\n33. 149\n\n\n",
            "text/latex": "\\begin{enumerate*}\n\\item 0\n\\item 72\n\\item 116\n\\item 136\n\\item 96\n\\item 77\n\\item 123\n\\item 146\n\\item 101\n\\item 81\n\\item 131\n\\item 158\n\\item 109\n\\item 87\n\\item 140\n\\item 167\n\\item 120\n\\item 94\n\\item 147\n\\item 177\n\\item 128\n\\item 102\n\\item 162\n\\item 191\n\\item 134\n\\item 106\n\\item 170\n\\item 200\n\\item 142\n\\item 115\n\\item 177\n\\item 218\n\\item 149\n\\end{enumerate*}\n",
            "text/plain": [
              " [1]   0  72 116 136  96  77 123 146 101  81 131 158 109  87 140 167 120  94 147\n",
              "[20] 177 128 102 162 191 134 106 170 200 142 115 177 218 149"
            ]
          },
          "metadata": {}
        }
      ]
    },
    {
      "cell_type": "markdown",
      "source": [
        "Graficar datos de ventas de bicicletas de montaña del periodo 0 al 32."
      ],
      "metadata": {
        "id": "BTp9-0EyrU4h"
      }
    },
    {
      "cell_type": "code",
      "source": [
        "plot(t[(2:33)],Yt[(2:33)],main=\"Ventas trimestrales de Tiger Sports Drink\",\n",
        "     xlab=\"Trimestres\",ylab=\"Miles de envases\",\n",
        "     type=\"o\",pch = 19,\n",
        "     col=\"blue\")\n",
        "abline(h = mean(Yt), col=\"red\", lwd=3, lty=2)"
      ],
      "metadata": {
        "colab": {
          "base_uri": "https://localhost:8080/",
          "height": 437
        },
        "id": "-jrkMK09rX_i",
        "outputId": "04bd4fd8-cc97-430a-e385-5608d82d7551"
      },
      "execution_count": 7,
      "outputs": [
        {
          "output_type": "display_data",
          "data": {
            "text/plain": [
              "Plot with title “Ventas trimestrales de Tiger Sports Drink”"
            ],
            "image/png": "[encoded data removed]"
          },
          "metadata": {
            "image/png": {
              "width": 420,
              "height": 420
            }
          }
        }
      ]
    },
    {
      "cell_type": "markdown",
      "source": [
        "Ajustar una recta de tendencia de mínimos cuadrados a la mitad de los datos totales n=32, n/2=16 y extraer valores para estimación inicial de los coeficientes para asignar a L0 y B0."
      ],
      "metadata": {
        "id": "HlQygRUQrgGv"
      }
    },
    {
      "cell_type": "code",
      "source": [
        "f <- lm(Yt[2:17] ~ t[2:17])\n",
        "Reg<-summary(f)\n",
        "L0<-Reg$coefficients[1]\n",
        "B0<-Reg$coefficients[2]\n",
        "f"
      ],
      "metadata": {
        "colab": {
          "base_uri": "https://localhost:8080/",
          "height": 139
        },
        "id": "r402bwgurvK0",
        "outputId": "f0ab64a8-1e8b-48bb-a7e9-2e9c9bd80e09"
      },
      "execution_count": 8,
      "outputs": [
        {
          "output_type": "display_data",
          "data": {
            "text/plain": [
              "\n",
              "Call:\n",
              "lm(formula = Yt[2:17] ~ t[2:17])\n",
              "\n",
              "Coefficients:\n",
              "(Intercept)      t[2:17]  \n",
              "     95.250        2.471  \n"
            ]
          },
          "metadata": {}
        }
      ]
    },
    {
      "cell_type": "markdown",
      "source": [
        "Agregar valor inicial de coeficientes al nivel, la tasa de crecimiento y definir constantes de suavizacion alfa=0.2, gamma=0.1 y delta=0.1"
      ],
      "metadata": {
        "id": "FuwnJuBmsSkB"
      }
    },
    {
      "cell_type": "code",
      "source": [
        "Lt[1]<-L0\n",
        "Bt[1]<-B0\n",
        "alfa<-0.2\n",
        "gamma<-0.1 \n",
        "delta<-0.1"
      ],
      "metadata": {
        "id": "AWfJIpcFsdUy"
      },
      "execution_count": 9,
      "outputs": []
    },
    {
      "cell_type": "markdown",
      "source": [
        "Calcular las estimaciones de regresión sin tendencia"
      ],
      "metadata": {
        "id": "5K9fg3Umsl1p"
      }
    },
    {
      "cell_type": "code",
      "source": [
        "for (i in 2:n){\n",
        "  Yest[i]<-Lt[1]+Bt[1]*(i-1)\n",
        "  St[i]<-Yt[i]/Yest[i]\n",
        "}"
      ],
      "metadata": {
        "id": "ag1L9Pzosrt-"
      },
      "execution_count": 10,
      "outputs": []
    },
    {
      "cell_type": "markdown",
      "source": [
        "Calcular factor estacional para L = 4, Sn_3, Sn_2, Sn_1, Sn0 y guardar valores en el vector It que almacene la información replicada para el índice promedio."
      ],
      "metadata": {
        "id": "dX2P8v0qswON"
      }
    },
    {
      "cell_type": "code",
      "source": [
        "Sn_3<-((Yt[2]/Yest[2])+(Yt[6]/Yest[6])+(Yt[10]/Yest[10])+(Yt[14]/Yest[14]))/4\n",
        "Sn_2<-((Yt[3]/Yest[3])+(Yt[7]/Yest[7])+(Yt[11]/Yest[11])+(Yt[15]/Yest[15]))/4\n",
        "Sn_1<-((Yt[4]/Yest[4])+(Yt[8]/Yest[8])+(Yt[12]/Yest[12])+(Yt[16]/Yest[16]))/4\n",
        "S0<-((Yt[5]/Yest[5])+(Yt[9]/Yest[9])+(Yt[13]/Yest[13])+(Yt[17]/Yest[17]))/4\n",
        "SumProm<-Sn_3+Sn_2+Sn_1+S0\n",
        "It[seq (1,n,by=4)]<-Sn_3\n",
        "It[seq (2,n,by=4)]<-Sn_2\n",
        "It[seq (3,n,by=4)]<-Sn_1\n",
        "It[seq (4,n,by=4)]<-S0"
      ],
      "metadata": {
        "id": "rR3pZku2tCK4"
      },
      "execution_count": 11,
      "outputs": []
    },
    {
      "cell_type": "markdown",
      "source": [
        "Generar el cálculo de datos respecto a las variables Pt ,Lt, Bt, y Snt,para t>2, con los errores cuadráticos relativo. "
      ],
      "metadata": {
        "id": "KWX7mHLytN7U"
      }
    },
    {
      "cell_type": "code",
      "source": [
        "for (i in 2:n){\n",
        "  Pt[i]<-(Lt[(i-1)]+Bt[(i-1)])*It[i-1]\n",
        "  Et[i]<-Yt[i]-Pt[i]\n",
        "  Lt[i]<-alfa*(Yt[i]/It[i-1])+((1-alfa)*(Lt[(i-1)]+Bt[(i-1)]))\n",
        "  Bt[i]<-delta*(Lt[i]-Lt[i-1])+((1-delta)*Bt[(i-1)])\n",
        "  Snt[i]<-gamma*(Yt[i]/Lt[i])+((1-gamma)*It[i-1])\n",
        "  Et2[i]<-Et[i]^2\n",
        "  Ert[i]<-((Yt[i]-Pt[i])/Pt[i])^2\n",
        "}"
      ],
      "metadata": {
        "id": "geZjihb0tZBu"
      },
      "execution_count": 12,
      "outputs": []
    },
    {
      "cell_type": "markdown",
      "source": [
        "Visualizar los valores resultantes en formato de tabla de Fig. 8.12"
      ],
      "metadata": {
        "id": "xIG7gAC2trvw"
      }
    },
    {
      "cell_type": "code",
      "source": [
        "Bebidas<-data.frame(t,Yt,Yest,St,Lt,Bt,Snt,Pt,Et,Et2,Ert,It)\n",
        "Bebidas"
      ],
      "metadata": {
        "colab": {
          "base_uri": "https://localhost:8080/",
          "height": 1000
        },
        "id": "r-GDxLRFtxRQ",
        "outputId": "2970887e-f232-4e92-9208-a8641939c400"
      },
      "execution_count": 23,
      "outputs": [
        {
          "output_type": "display_data",
          "data": {
            "text/html": [
              "<table class=\"dataframe\">\n",
              "<caption>A data.frame: 33 × 12</caption>\n",
              "<thead>\n",
              "\t<tr><th scope=col>t</th><th scope=col>Yt</th><th scope=col>Yest</th><th scope=col>St</th><th scope=col>Lt</th><th scope=col>Bt</th><th scope=col>Snt</th><th scope=col>Pt</th><th scope=col>Et</th><th scope=col>Et2</th><th scope=col>Ert</th><th scope=col>It</th></tr>\n",
              "\t<tr><th scope=col>&lt;int&gt;</th><th scope=col>&lt;dbl&gt;</th><th scope=col>&lt;dbl&gt;</th><th scope=col>&lt;dbl&gt;</th><th scope=col>&lt;dbl&gt;</th><th scope=col>&lt;dbl&gt;</th><th scope=col>&lt;dbl&gt;</th><th scope=col>&lt;dbl&gt;</th><th scope=col>&lt;dbl&gt;</th><th scope=col>&lt;dbl&gt;</th><th scope=col>&lt;dbl&gt;</th><th scope=col>&lt;dbl&gt;</th></tr>\n",
              "</thead>\n",
              "<tbody>\n",
              "\t<tr><td> 0</td><td>  0</td><td>  0.00000</td><td>0.0000000</td><td> 95.25000</td><td>2.470588</td><td>0.0000000</td><td>  0.00000</td><td> 0.00000000</td><td> 0.000000000</td><td>0.000000e+00</td><td>0.7062246</td></tr>\n",
              "\t<tr><td> 1</td><td> 72</td><td> 97.72059</td><td>0.7367946</td><td> 99.14186</td><td>2.661039</td><td>0.7071449</td><td> 69.01268</td><td> 2.98731671</td><td> 8.924061120</td><td>1.873720e-03</td><td>1.1113886</td></tr>\n",
              "\t<tr><td> 2</td><td>116</td><td>100.19118</td><td>1.1577866</td><td>102.66677</td><td>2.776797</td><td>1.1122387</td><td>113.14258</td><td> 2.85741596</td><td> 8.164825980</td><td>6.378150e-04</td><td>1.2936942</td></tr>\n",
              "\t<tr><td> 3</td><td>136</td><td>102.66176</td><td>1.3247386</td><td>105.33663</td><td>2.762468</td><td>1.2935748</td><td>136.41173</td><td>-0.41172549</td><td> 0.169517877</td><td>9.109868e-06</td><td>0.8885864</td></tr>\n",
              "\t<tr><td> 4</td><td> 96</td><td>105.13235</td><td>0.9131347</td><td>108.07815</td><td>2.759661</td><td>0.8885708</td><td> 96.05539</td><td>-0.05539131</td><td> 0.003068198</td><td>3.325369e-07</td><td>0.7062246</td></tr>\n",
              "\t<tr><td> 5</td><td> 77</td><td>107.60294</td><td>0.7155938</td><td>110.23055</td><td>2.678287</td><td>0.7058709</td><td> 78.27639</td><td>-1.27639147</td><td> 1.629175191</td><td>2.658926e-04</td><td>1.1113886</td></tr>\n",
              "\t<tr><td> 6</td><td>123</td><td>110.07353</td><td>1.1174349</td><td>112.15738</td><td>2.577592</td><td>1.1107117</td><td>125.48559</td><td>-2.48559214</td><td> 6.178168296</td><td>3.923485e-04</td><td>1.2936942</td></tr>\n",
              "\t<tr><td> 7</td><td>146</td><td>112.54412</td><td>1.2972690</td><td>114.10334</td><td>2.492954</td><td>1.2930432</td><td>148.43196</td><td>-2.43196422</td><td> 5.914449972</td><td>2.684476e-04</td><td>0.8885864</td></tr>\n",
              "\t<tr><td> 8</td><td>101</td><td>115.01471</td><td>0.8781486</td><td>115.61093</td><td>2.360915</td><td>0.8878980</td><td>103.60588</td><td>-2.60588180</td><td> 6.790619945</td><td>6.326166e-04</td><td>0.7062246</td></tr>\n",
              "\t<tr><td> 9</td><td> 81</td><td>117.48529</td><td>0.6894480</td><td>116.87062</td><td>2.213351</td><td>0.7056197</td><td> 83.31462</td><td>-2.31462164</td><td> 5.357473352</td><td>7.718227e-04</td><td>1.1113886</td></tr>\n",
              "\t<tr><td>10</td><td>131</td><td>119.95588</td><td>1.0920682</td><td>118.67627</td><td>2.158719</td><td>1.1110415</td><td>132.34857</td><td>-1.34857189</td><td> 1.818646150</td><td>1.038269e-04</td><td>1.2936942</td></tr>\n",
              "\t<tr><td>11</td><td>158</td><td>122.42647</td><td>1.2905706</td><td>121.27040</td><td>2.217065</td><td>1.2941164</td><td>156.32352</td><td> 1.67648213</td><td> 2.810592324</td><td>1.150136e-04</td><td>0.8885864</td></tr>\n",
              "\t<tr><td>12</td><td>109</td><td>124.89706</td><td>0.8727187</td><td>123.21170</td><td>2.180112</td><td>0.8884056</td><td>109.72929</td><td>-0.72928822</td><td> 0.531861308</td><td>4.417263e-05</td><td>0.7062246</td></tr>\n",
              "\t<tr><td>13</td><td> 87</td><td>127.36765</td><td>0.6830620</td><td>124.65210</td><td>2.080990</td><td>0.7058436</td><td> 88.55479</td><td>-1.55478528</td><td> 2.417357266</td><td>3.082597e-04</td><td>1.1113886</td></tr>\n",
              "\t<tr><td>14</td><td>140</td><td>129.83824</td><td>1.0782648</td><td>126.47620</td><td>2.046567</td><td>1.1111834</td><td>140.84971</td><td>-0.84970889</td><td> 0.722005200</td><td>3.639388e-05</td><td>1.2936942</td></tr>\n",
              "\t<tr><td>15</td><td>167</td><td>132.30882</td><td>1.2621985</td><td>128.71258</td><td>2.072002</td><td>1.2938676</td><td>166.26915</td><td> 0.73084631</td><td> 0.534136330</td><td>1.932096e-05</td><td>0.8885864</td></tr>\n",
              "\t<tr><td>16</td><td>120</td><td>134.77941</td><td>0.8903437</td><td>132.21640</td><td>2.263866</td><td>0.8894612</td><td>116.21341</td><td> 3.78659406</td><td>14.338294554</td><td>1.061659e-03</td><td>0.7062246</td></tr>\n",
              "\t<tr><td>17</td><td> 94</td><td>137.25000</td><td>0.6848816</td><td>134.01722</td><td>2.201817</td><td>0.7060028</td><td> 94.97328</td><td>-0.97327502</td><td> 0.947264261</td><td>1.050191e-04</td><td>1.1113886</td></tr>\n",
              "\t<tr><td>18</td><td>147</td><td>139.72059</td><td>1.0520998</td><td>134.89114</td><td>2.023879</td><td>1.1103940</td><td>151.39228</td><td>-4.39228082</td><td>19.292130842</td><td>8.417299e-04</td><td>1.2936942</td></tr>\n",
              "\t<tr><td>19</td><td>177</td><td>142.19118</td><td>1.2448030</td><td>136.88225</td><td>2.019488</td><td>1.2936660</td><td>177.12616</td><td>-0.12616063</td><td> 0.015916504</td><td>5.073203e-07</td><td>0.8885864</td></tr>\n",
              "\t<tr><td>20</td><td>128</td><td>144.66176</td><td>0.8848226</td><td>140.63122</td><td>2.251239</td><td>0.8895798</td><td>123.42620</td><td> 4.57380073</td><td>20.919653083</td><td>1.373219e-03</td><td>0.7062246</td></tr>\n",
              "\t<tr><td>21</td><td>102</td><td>147.13235</td><td>0.6932534</td><td>143.40243</td><td>2.320914</td><td>0.7064574</td><td>100.90711</td><td> 1.09288948</td><td> 1.194407410</td><td>1.173030e-04</td><td>1.1113886</td></tr>\n",
              "\t<tr><td>22</td><td>162</td><td>149.60294</td><td>1.0828664</td><td>145.73687</td><td>2.322727</td><td>1.1113980</td><td>161.95526</td><td> 0.04473909</td><td> 0.002001587</td><td>7.631049e-08</td><td>1.2936942</td></tr>\n",
              "\t<tr><td>23</td><td>191</td><td>152.07353</td><td>1.2559714</td><td>147.91835</td><td>2.303800</td><td>1.2935819</td><td>191.54383</td><td>-0.54383374</td><td> 0.295755132</td><td>8.061130e-06</td><td>0.8885864</td></tr>\n",
              "\t<tr><td>24</td><td>134</td><td>154.54412</td><td>0.8670663</td><td>150.41675</td><td>2.329876</td><td>0.8886909</td><td>133.48536</td><td> 0.51463892</td><td> 0.264853216</td><td>1.486408e-05</td><td>0.7062246</td></tr>\n",
              "\t<tr><td>25</td><td>106</td><td>157.01471</td><td>0.6750960</td><td>151.85531</td><td>2.210440</td><td>0.7058478</td><td>107.87342</td><td>-1.87342345</td><td> 3.509715405</td><td>3.016081e-04</td><td>1.1113886</td></tr>\n",
              "\t<tr><td>26</td><td>170</td><td>159.48529</td><td>1.0659290</td><td>153.69482</td><td>2.160736</td><td>1.1111448</td><td>171.22692</td><td>-1.22691522</td><td> 1.505320952</td><td>5.134345e-05</td><td>1.2936942</td></tr>\n",
              "\t<tr><td>27</td><td>200</td><td>161.95588</td><td>1.2349042</td><td>155.43236</td><td>2.104027</td><td>1.2933740</td><td>201.62942</td><td>-1.62942433</td><td> 2.655023631</td><td>6.530713e-05</td><td>0.8885864</td></tr>\n",
              "\t<tr><td>28</td><td>142</td><td>164.42647</td><td>0.8636079</td><td>158.29843</td><td>2.206141</td><td>0.8889753</td><td>139.98469</td><td> 2.01530609</td><td> 4.061458642</td><td>2.072626e-04</td><td>0.7062246</td></tr>\n",
              "\t<tr><td>29</td><td>115</td><td>166.89706</td><td>0.6890475</td><td>161.28851</td><td>2.311189</td><td>0.7065366</td><td>113.35228</td><td> 1.64772241</td><td> 2.714989129</td><td>2.113039e-04</td><td>1.1113886</td></tr>\n",
              "\t<tr><td>30</td><td>177</td><td>169.36765</td><td>1.0450638</td><td>162.14163</td><td>2.115808</td><td>1.1104801</td><td>181.82284</td><td>-4.82283946</td><td>23.259780472</td><td>7.035723e-04</td><td>1.2936942</td></tr>\n",
              "\t<tr><td>31</td><td>218</td><td>171.83824</td><td>1.2686350</td><td>165.68620</td><td>2.307261</td><td>1.2947083</td><td>212.49890</td><td> 5.50110273</td><td>30.262131241</td><td>6.701718e-04</td><td>0.8885864</td></tr>\n",
              "\t<tr><td>32</td><td>149</td><td>174.30882</td><td>0.8548047</td><td>167.88883</td><td>2.293241</td><td>0.8885361</td><td>149.27671</td><td>-0.27670584</td><td> 0.076566121</td><td>3.435995e-06</td><td>0.7062246</td></tr>\n",
              "</tbody>\n",
              "</table>\n"
            ],
            "text/markdown": "\nA data.frame: 33 × 12\n\n| t &lt;int&gt; | Yt &lt;dbl&gt; | Yest &lt;dbl&gt; | St &lt;dbl&gt; | Lt &lt;dbl&gt; | Bt &lt;dbl&gt; | Snt &lt;dbl&gt; | Pt &lt;dbl&gt; | Et &lt;dbl&gt; | Et2 &lt;dbl&gt; | Ert &lt;dbl&gt; | It &lt;dbl&gt; |\n|---|---|---|---|---|---|---|---|---|---|---|---|\n|  0 |   0 |   0.00000 | 0.0000000 |  95.25000 | 2.470588 | 0.0000000 |   0.00000 |  0.00000000 |  0.000000000 | 0.000000e+00 | 0.7062246 |\n|  1 |  72 |  97.72059 | 0.7367946 |  99.14186 | 2.661039 | 0.7071449 |  69.01268 |  2.98731671 |  8.924061120 | 1.873720e-03 | 1.1113886 |\n|  2 | 116 | 100.19118 | 1.1577866 | 102.66677 | 2.776797 | 1.1122387 | 113.14258 |  2.85741596 |  8.164825980 | 6.378150e-04 | 1.2936942 |\n|  3 | 136 | 102.66176 | 1.3247386 | 105.33663 | 2.762468 | 1.2935748 | 136.41173 | -0.41172549 |  0.169517877 | 9.109868e-06 | 0.8885864 |\n|  4 |  96 | 105.13235 | 0.9131347 | 108.07815 | 2.759661 | 0.8885708 |  96.05539 | -0.05539131 |  0.003068198 | 3.325369e-07 | 0.7062246 |\n|  5 |  77 | 107.60294 | 0.7155938 | 110.23055 | 2.678287 | 0.7058709 |  78.27639 | -1.27639147 |  1.629175191 | 2.658926e-04 | 1.1113886 |\n|  6 | 123 | 110.07353 | 1.1174349 | 112.15738 | 2.577592 | 1.1107117 | 125.48559 | -2.48559214 |  6.178168296 | 3.923485e-04 | 1.2936942 |\n|  7 | 146 | 112.54412 | 1.2972690 | 114.10334 | 2.492954 | 1.2930432 | 148.43196 | -2.43196422 |  5.914449972 | 2.684476e-04 | 0.8885864 |\n|  8 | 101 | 115.01471 | 0.8781486 | 115.61093 | 2.360915 | 0.8878980 | 103.60588 | -2.60588180 |  6.790619945 | 6.326166e-04 | 0.7062246 |\n|  9 |  81 | 117.48529 | 0.6894480 | 116.87062 | 2.213351 | 0.7056197 |  83.31462 | -2.31462164 |  5.357473352 | 7.718227e-04 | 1.1113886 |\n| 10 | 131 | 119.95588 | 1.0920682 | 118.67627 | 2.158719 | 1.1110415 | 132.34857 | -1.34857189 |  1.818646150 | 1.038269e-04 | 1.2936942 |\n| 11 | 158 | 122.42647 | 1.2905706 | 121.27040 | 2.217065 | 1.2941164 | 156.32352 |  1.67648213 |  2.810592324 | 1.150136e-04 | 0.8885864 |\n| 12 | 109 | 124.89706 | 0.8727187 | 123.21170 | 2.180112 | 0.8884056 | 109.72929 | -0.72928822 |  0.531861308 | 4.417263e-05 | 0.7062246 |\n| 13 |  87 | 127.36765 | 0.6830620 | 124.65210 | 2.080990 | 0.7058436 |  88.55479 | -1.55478528 |  2.417357266 | 3.082597e-04 | 1.1113886 |\n| 14 | 140 | 129.83824 | 1.0782648 | 126.47620 | 2.046567 | 1.1111834 | 140.84971 | -0.84970889 |  0.722005200 | 3.639388e-05 | 1.2936942 |\n| 15 | 167 | 132.30882 | 1.2621985 | 128.71258 | 2.072002 | 1.2938676 | 166.26915 |  0.73084631 |  0.534136330 | 1.932096e-05 | 0.8885864 |\n| 16 | 120 | 134.77941 | 0.8903437 | 132.21640 | 2.263866 | 0.8894612 | 116.21341 |  3.78659406 | 14.338294554 | 1.061659e-03 | 0.7062246 |\n| 17 |  94 | 137.25000 | 0.6848816 | 134.01722 | 2.201817 | 0.7060028 |  94.97328 | -0.97327502 |  0.947264261 | 1.050191e-04 | 1.1113886 |\n| 18 | 147 | 139.72059 | 1.0520998 | 134.89114 | 2.023879 | 1.1103940 | 151.39228 | -4.39228082 | 19.292130842 | 8.417299e-04 | 1.2936942 |\n| 19 | 177 | 142.19118 | 1.2448030 | 136.88225 | 2.019488 | 1.2936660 | 177.12616 | -0.12616063 |  0.015916504 | 5.073203e-07 | 0.8885864 |\n| 20 | 128 | 144.66176 | 0.8848226 | 140.63122 | 2.251239 | 0.8895798 | 123.42620 |  4.57380073 | 20.919653083 | 1.373219e-03 | 0.7062246 |\n| 21 | 102 | 147.13235 | 0.6932534 | 143.40243 | 2.320914 | 0.7064574 | 100.90711 |  1.09288948 |  1.194407410 | 1.173030e-04 | 1.1113886 |\n| 22 | 162 | 149.60294 | 1.0828664 | 145.73687 | 2.322727 | 1.1113980 | 161.95526 |  0.04473909 |  0.002001587 | 7.631049e-08 | 1.2936942 |\n| 23 | 191 | 152.07353 | 1.2559714 | 147.91835 | 2.303800 | 1.2935819 | 191.54383 | -0.54383374 |  0.295755132 | 8.061130e-06 | 0.8885864 |\n| 24 | 134 | 154.54412 | 0.8670663 | 150.41675 | 2.329876 | 0.8886909 | 133.48536 |  0.51463892 |  0.264853216 | 1.486408e-05 | 0.7062246 |\n| 25 | 106 | 157.01471 | 0.6750960 | 151.85531 | 2.210440 | 0.7058478 | 107.87342 | -1.87342345 |  3.509715405 | 3.016081e-04 | 1.1113886 |\n| 26 | 170 | 159.48529 | 1.0659290 | 153.69482 | 2.160736 | 1.1111448 | 171.22692 | -1.22691522 |  1.505320952 | 5.134345e-05 | 1.2936942 |\n| 27 | 200 | 161.95588 | 1.2349042 | 155.43236 | 2.104027 | 1.2933740 | 201.62942 | -1.62942433 |  2.655023631 | 6.530713e-05 | 0.8885864 |\n| 28 | 142 | 164.42647 | 0.8636079 | 158.29843 | 2.206141 | 0.8889753 | 139.98469 |  2.01530609 |  4.061458642 | 2.072626e-04 | 0.7062246 |\n| 29 | 115 | 166.89706 | 0.6890475 | 161.28851 | 2.311189 | 0.7065366 | 113.35228 |  1.64772241 |  2.714989129 | 2.113039e-04 | 1.1113886 |\n| 30 | 177 | 169.36765 | 1.0450638 | 162.14163 | 2.115808 | 1.1104801 | 181.82284 | -4.82283946 | 23.259780472 | 7.035723e-04 | 1.2936942 |\n| 31 | 218 | 171.83824 | 1.2686350 | 165.68620 | 2.307261 | 1.2947083 | 212.49890 |  5.50110273 | 30.262131241 | 6.701718e-04 | 0.8885864 |\n| 32 | 149 | 174.30882 | 0.8548047 | 167.88883 | 2.293241 | 0.8885361 | 149.27671 | -0.27670584 |  0.076566121 | 3.435995e-06 | 0.7062246 |\n\n",
            "text/latex": "A data.frame: 33 × 12\n\\begin{tabular}{llllllllllll}\n t & Yt & Yest & St & Lt & Bt & Snt & Pt & Et & Et2 & Ert & It\\\\\n <int> & <dbl> & <dbl> & <dbl> & <dbl> & <dbl> & <dbl> & <dbl> & <dbl> & <dbl> & <dbl> & <dbl>\\\\\n\\hline\n\t  0 &   0 &   0.00000 & 0.0000000 &  95.25000 & 2.470588 & 0.0000000 &   0.00000 &  0.00000000 &  0.000000000 & 0.000000e+00 & 0.7062246\\\\\n\t  1 &  72 &  97.72059 & 0.7367946 &  99.14186 & 2.661039 & 0.7071449 &  69.01268 &  2.98731671 &  8.924061120 & 1.873720e-03 & 1.1113886\\\\\n\t  2 & 116 & 100.19118 & 1.1577866 & 102.66677 & 2.776797 & 1.1122387 & 113.14258 &  2.85741596 &  8.164825980 & 6.378150e-04 & 1.2936942\\\\\n\t  3 & 136 & 102.66176 & 1.3247386 & 105.33663 & 2.762468 & 1.2935748 & 136.41173 & -0.41172549 &  0.169517877 & 9.109868e-06 & 0.8885864\\\\\n\t  4 &  96 & 105.13235 & 0.9131347 & 108.07815 & 2.759661 & 0.8885708 &  96.05539 & -0.05539131 &  0.003068198 & 3.325369e-07 & 0.7062246\\\\\n\t  5 &  77 & 107.60294 & 0.7155938 & 110.23055 & 2.678287 & 0.7058709 &  78.27639 & -1.27639147 &  1.629175191 & 2.658926e-04 & 1.1113886\\\\\n\t  6 & 123 & 110.07353 & 1.1174349 & 112.15738 & 2.577592 & 1.1107117 & 125.48559 & -2.48559214 &  6.178168296 & 3.923485e-04 & 1.2936942\\\\\n\t  7 & 146 & 112.54412 & 1.2972690 & 114.10334 & 2.492954 & 1.2930432 & 148.43196 & -2.43196422 &  5.914449972 & 2.684476e-04 & 0.8885864\\\\\n\t  8 & 101 & 115.01471 & 0.8781486 & 115.61093 & 2.360915 & 0.8878980 & 103.60588 & -2.60588180 &  6.790619945 & 6.326166e-04 & 0.7062246\\\\\n\t  9 &  81 & 117.48529 & 0.6894480 & 116.87062 & 2.213351 & 0.7056197 &  83.31462 & -2.31462164 &  5.357473352 & 7.718227e-04 & 1.1113886\\\\\n\t 10 & 131 & 119.95588 & 1.0920682 & 118.67627 & 2.158719 & 1.1110415 & 132.34857 & -1.34857189 &  1.818646150 & 1.038269e-04 & 1.2936942\\\\\n\t 11 & 158 & 122.42647 & 1.2905706 & 121.27040 & 2.217065 & 1.2941164 & 156.32352 &  1.67648213 &  2.810592324 & 1.150136e-04 & 0.8885864\\\\\n\t 12 & 109 & 124.89706 & 0.8727187 & 123.21170 & 2.180112 & 0.8884056 & 109.72929 & -0.72928822 &  0.531861308 & 4.417263e-05 & 0.7062246\\\\\n\t 13 &  87 & 127.36765 & 0.6830620 & 124.65210 & 2.080990 & 0.7058436 &  88.55479 & -1.55478528 &  2.417357266 & 3.082597e-04 & 1.1113886\\\\\n\t 14 & 140 & 129.83824 & 1.0782648 & 126.47620 & 2.046567 & 1.1111834 & 140.84971 & -0.84970889 &  0.722005200 & 3.639388e-05 & 1.2936942\\\\\n\t 15 & 167 & 132.30882 & 1.2621985 & 128.71258 & 2.072002 & 1.2938676 & 166.26915 &  0.73084631 &  0.534136330 & 1.932096e-05 & 0.8885864\\\\\n\t 16 & 120 & 134.77941 & 0.8903437 & 132.21640 & 2.263866 & 0.8894612 & 116.21341 &  3.78659406 & 14.338294554 & 1.061659e-03 & 0.7062246\\\\\n\t 17 &  94 & 137.25000 & 0.6848816 & 134.01722 & 2.201817 & 0.7060028 &  94.97328 & -0.97327502 &  0.947264261 & 1.050191e-04 & 1.1113886\\\\\n\t 18 & 147 & 139.72059 & 1.0520998 & 134.89114 & 2.023879 & 1.1103940 & 151.39228 & -4.39228082 & 19.292130842 & 8.417299e-04 & 1.2936942\\\\\n\t 19 & 177 & 142.19118 & 1.2448030 & 136.88225 & 2.019488 & 1.2936660 & 177.12616 & -0.12616063 &  0.015916504 & 5.073203e-07 & 0.8885864\\\\\n\t 20 & 128 & 144.66176 & 0.8848226 & 140.63122 & 2.251239 & 0.8895798 & 123.42620 &  4.57380073 & 20.919653083 & 1.373219e-03 & 0.7062246\\\\\n\t 21 & 102 & 147.13235 & 0.6932534 & 143.40243 & 2.320914 & 0.7064574 & 100.90711 &  1.09288948 &  1.194407410 & 1.173030e-04 & 1.1113886\\\\\n\t 22 & 162 & 149.60294 & 1.0828664 & 145.73687 & 2.322727 & 1.1113980 & 161.95526 &  0.04473909 &  0.002001587 & 7.631049e-08 & 1.2936942\\\\\n\t 23 & 191 & 152.07353 & 1.2559714 & 147.91835 & 2.303800 & 1.2935819 & 191.54383 & -0.54383374 &  0.295755132 & 8.061130e-06 & 0.8885864\\\\\n\t 24 & 134 & 154.54412 & 0.8670663 & 150.41675 & 2.329876 & 0.8886909 & 133.48536 &  0.51463892 &  0.264853216 & 1.486408e-05 & 0.7062246\\\\\n\t 25 & 106 & 157.01471 & 0.6750960 & 151.85531 & 2.210440 & 0.7058478 & 107.87342 & -1.87342345 &  3.509715405 & 3.016081e-04 & 1.1113886\\\\\n\t 26 & 170 & 159.48529 & 1.0659290 & 153.69482 & 2.160736 & 1.1111448 & 171.22692 & -1.22691522 &  1.505320952 & 5.134345e-05 & 1.2936942\\\\\n\t 27 & 200 & 161.95588 & 1.2349042 & 155.43236 & 2.104027 & 1.2933740 & 201.62942 & -1.62942433 &  2.655023631 & 6.530713e-05 & 0.8885864\\\\\n\t 28 & 142 & 164.42647 & 0.8636079 & 158.29843 & 2.206141 & 0.8889753 & 139.98469 &  2.01530609 &  4.061458642 & 2.072626e-04 & 0.7062246\\\\\n\t 29 & 115 & 166.89706 & 0.6890475 & 161.28851 & 2.311189 & 0.7065366 & 113.35228 &  1.64772241 &  2.714989129 & 2.113039e-04 & 1.1113886\\\\\n\t 30 & 177 & 169.36765 & 1.0450638 & 162.14163 & 2.115808 & 1.1104801 & 181.82284 & -4.82283946 & 23.259780472 & 7.035723e-04 & 1.2936942\\\\\n\t 31 & 218 & 171.83824 & 1.2686350 & 165.68620 & 2.307261 & 1.2947083 & 212.49890 &  5.50110273 & 30.262131241 & 6.701718e-04 & 0.8885864\\\\\n\t 32 & 149 & 174.30882 & 0.8548047 & 167.88883 & 2.293241 & 0.8885361 & 149.27671 & -0.27670584 &  0.076566121 & 3.435995e-06 & 0.7062246\\\\\n\\end{tabular}\n",
            "text/plain": [
              "   t  Yt  Yest      St        Lt        Bt       Snt       Pt       \n",
              "1   0   0   0.00000 0.0000000  95.25000 2.470588 0.0000000   0.00000\n",
              "2   1  72  97.72059 0.7367946  99.14186 2.661039 0.7071449  69.01268\n",
              "3   2 116 100.19118 1.1577866 102.66677 2.776797 1.1122387 113.14258\n",
              "4   3 136 102.66176 1.3247386 105.33663 2.762468 1.2935748 136.41173\n",
              "5   4  96 105.13235 0.9131347 108.07815 2.759661 0.8885708  96.05539\n",
              "6   5  77 107.60294 0.7155938 110.23055 2.678287 0.7058709  78.27639\n",
              "7   6 123 110.07353 1.1174349 112.15738 2.577592 1.1107117 125.48559\n",
              "8   7 146 112.54412 1.2972690 114.10334 2.492954 1.2930432 148.43196\n",
              "9   8 101 115.01471 0.8781486 115.61093 2.360915 0.8878980 103.60588\n",
              "10  9  81 117.48529 0.6894480 116.87062 2.213351 0.7056197  83.31462\n",
              "11 10 131 119.95588 1.0920682 118.67627 2.158719 1.1110415 132.34857\n",
              "12 11 158 122.42647 1.2905706 121.27040 2.217065 1.2941164 156.32352\n",
              "13 12 109 124.89706 0.8727187 123.21170 2.180112 0.8884056 109.72929\n",
              "14 13  87 127.36765 0.6830620 124.65210 2.080990 0.7058436  88.55479\n",
              "15 14 140 129.83824 1.0782648 126.47620 2.046567 1.1111834 140.84971\n",
              "16 15 167 132.30882 1.2621985 128.71258 2.072002 1.2938676 166.26915\n",
              "17 16 120 134.77941 0.8903437 132.21640 2.263866 0.8894612 116.21341\n",
              "18 17  94 137.25000 0.6848816 134.01722 2.201817 0.7060028  94.97328\n",
              "19 18 147 139.72059 1.0520998 134.89114 2.023879 1.1103940 151.39228\n",
              "20 19 177 142.19118 1.2448030 136.88225 2.019488 1.2936660 177.12616\n",
              "21 20 128 144.66176 0.8848226 140.63122 2.251239 0.8895798 123.42620\n",
              "22 21 102 147.13235 0.6932534 143.40243 2.320914 0.7064574 100.90711\n",
              "23 22 162 149.60294 1.0828664 145.73687 2.322727 1.1113980 161.95526\n",
              "24 23 191 152.07353 1.2559714 147.91835 2.303800 1.2935819 191.54383\n",
              "25 24 134 154.54412 0.8670663 150.41675 2.329876 0.8886909 133.48536\n",
              "26 25 106 157.01471 0.6750960 151.85531 2.210440 0.7058478 107.87342\n",
              "27 26 170 159.48529 1.0659290 153.69482 2.160736 1.1111448 171.22692\n",
              "28 27 200 161.95588 1.2349042 155.43236 2.104027 1.2933740 201.62942\n",
              "29 28 142 164.42647 0.8636079 158.29843 2.206141 0.8889753 139.98469\n",
              "30 29 115 166.89706 0.6890475 161.28851 2.311189 0.7065366 113.35228\n",
              "31 30 177 169.36765 1.0450638 162.14163 2.115808 1.1104801 181.82284\n",
              "32 31 218 171.83824 1.2686350 165.68620 2.307261 1.2947083 212.49890\n",
              "33 32 149 174.30882 0.8548047 167.88883 2.293241 0.8885361 149.27671\n",
              "   Et          Et2          Ert          It       \n",
              "1   0.00000000  0.000000000 0.000000e+00 0.7062246\n",
              "2   2.98731671  8.924061120 1.873720e-03 1.1113886\n",
              "3   2.85741596  8.164825980 6.378150e-04 1.2936942\n",
              "4  -0.41172549  0.169517877 9.109868e-06 0.8885864\n",
              "5  -0.05539131  0.003068198 3.325369e-07 0.7062246\n",
              "6  -1.27639147  1.629175191 2.658926e-04 1.1113886\n",
              "7  -2.48559214  6.178168296 3.923485e-04 1.2936942\n",
              "8  -2.43196422  5.914449972 2.684476e-04 0.8885864\n",
              "9  -2.60588180  6.790619945 6.326166e-04 0.7062246\n",
              "10 -2.31462164  5.357473352 7.718227e-04 1.1113886\n",
              "11 -1.34857189  1.818646150 1.038269e-04 1.2936942\n",
              "12  1.67648213  2.810592324 1.150136e-04 0.8885864\n",
              "13 -0.72928822  0.531861308 4.417263e-05 0.7062246\n",
              "14 -1.55478528  2.417357266 3.082597e-04 1.1113886\n",
              "15 -0.84970889  0.722005200 3.639388e-05 1.2936942\n",
              "16  0.73084631  0.534136330 1.932096e-05 0.8885864\n",
              "17  3.78659406 14.338294554 1.061659e-03 0.7062246\n",
              "18 -0.97327502  0.947264261 1.050191e-04 1.1113886\n",
              "19 -4.39228082 19.292130842 8.417299e-04 1.2936942\n",
              "20 -0.12616063  0.015916504 5.073203e-07 0.8885864\n",
              "21  4.57380073 20.919653083 1.373219e-03 0.7062246\n",
              "22  1.09288948  1.194407410 1.173030e-04 1.1113886\n",
              "23  0.04473909  0.002001587 7.631049e-08 1.2936942\n",
              "24 -0.54383374  0.295755132 8.061130e-06 0.8885864\n",
              "25  0.51463892  0.264853216 1.486408e-05 0.7062246\n",
              "26 -1.87342345  3.509715405 3.016081e-04 1.1113886\n",
              "27 -1.22691522  1.505320952 5.134345e-05 1.2936942\n",
              "28 -1.62942433  2.655023631 6.530713e-05 0.8885864\n",
              "29  2.01530609  4.061458642 2.072626e-04 0.7062246\n",
              "30  1.64772241  2.714989129 2.113039e-04 1.1113886\n",
              "31 -4.82283946 23.259780472 7.035723e-04 1.2936942\n",
              "32  5.50110273 30.262131241 6.701718e-04 0.8885864\n",
              "33 -0.27670584  0.076566121 3.435995e-06 0.7062246"
            ]
          },
          "metadata": {}
        }
      ]
    },
    {
      "cell_type": "markdown",
      "source": [
        "Valor del error estandar SSE para calcular el error de pronostico St"
      ],
      "metadata": {
        "id": "6lprPC5ct6VK"
      }
    },
    {
      "cell_type": "code",
      "source": [
        "SSRE<-sum(Ert)\n",
        "Sr<-sqrt(SSRE/29)"
      ],
      "metadata": {
        "id": "m6kvtCazt-a3"
      },
      "execution_count": 14,
      "outputs": []
    },
    {
      "cell_type": "markdown",
      "source": [
        "Reproducir los valores resultantes en formato de tabla de Fig. 8.14(b) con los valores nuevos para alfa<-0.336, gamma<-0.046, delta1<-0.134."
      ],
      "metadata": {
        "id": "g76Nlb6Bui2R"
      }
    },
    {
      "cell_type": "code",
      "source": [
        "alfa1<-0.336\n",
        "gamma1<-0.046\n",
        "delta1<-0.134"
      ],
      "metadata": {
        "id": "VFE6ncS9urxH"
      },
      "execution_count": 15,
      "outputs": []
    },
    {
      "cell_type": "code",
      "source": [
        "for (i in 2:n){\n",
        "  Pt[i]<-(Lt[(i-1)]+Bt[(i-1)])*It[i-1]\n",
        "  Et[i]<-Yt[i]-Pt[i]\n",
        "  Lt[i]<-alfa1*(Yt[i]/It[i-1])+((1-alfa1)*(Lt[(i-1)]+Bt[(i-1)]))\n",
        "  Bt[i]<-delta1*(Lt[i]-Lt[i-1])+((1-delta1)*Bt[(i-1)])\n",
        "  Snt[i]<-gamma1*(Yt[i]/Lt[i])+((1-gamma1)*It[i-1])\n",
        "  Et2[i]<-Et[i]^2\n",
        "  Ert[i]<-((Yt[i]-Pt[i])/Pt[i])^2\n",
        "}"
      ],
      "metadata": {
        "id": "9qsXO8dGu7Bz"
      },
      "execution_count": 16,
      "outputs": []
    },
    {
      "cell_type": "markdown",
      "source": [
        "Visualizar los valores resultantes en formato de tabla de Fig. 8.14(b)"
      ],
      "metadata": {
        "id": "gx0ppLDYu_kE"
      }
    },
    {
      "cell_type": "code",
      "source": [
        "Bebidas1<-data.frame(t,Yt,Yest,St,Lt,Bt,Snt,Pt,Et,Et2,Ert,It)\n",
        "Bebidas1"
      ],
      "metadata": {
        "colab": {
          "base_uri": "https://localhost:8080/",
          "height": 1000
        },
        "id": "IlMj_eEXvEUi",
        "outputId": "ec8d2402-0ed2-4a6c-c3a0-a07a663d8f20"
      },
      "execution_count": 22,
      "outputs": [
        {
          "output_type": "display_data",
          "data": {
            "text/html": [
              "<table class=\"dataframe\">\n",
              "<caption>A data.frame: 33 × 12</caption>\n",
              "<thead>\n",
              "\t<tr><th scope=col>t</th><th scope=col>Yt</th><th scope=col>Yest</th><th scope=col>St</th><th scope=col>Lt</th><th scope=col>Bt</th><th scope=col>Snt</th><th scope=col>Pt</th><th scope=col>Et</th><th scope=col>Et2</th><th scope=col>Ert</th><th scope=col>It</th></tr>\n",
              "\t<tr><th scope=col>&lt;int&gt;</th><th scope=col>&lt;dbl&gt;</th><th scope=col>&lt;dbl&gt;</th><th scope=col>&lt;dbl&gt;</th><th scope=col>&lt;dbl&gt;</th><th scope=col>&lt;dbl&gt;</th><th scope=col>&lt;dbl&gt;</th><th scope=col>&lt;dbl&gt;</th><th scope=col>&lt;dbl&gt;</th><th scope=col>&lt;dbl&gt;</th><th scope=col>&lt;dbl&gt;</th><th scope=col>&lt;dbl&gt;</th></tr>\n",
              "</thead>\n",
              "<tbody>\n",
              "\t<tr><td> 0</td><td>  0</td><td>  0.00000</td><td>0.0000000</td><td> 95.25000</td><td>2.470588</td><td>0.0000000</td><td>  0.00000</td><td> 0.00000000</td><td> 0.000000000</td><td>0.000000e+00</td><td>0.7062246</td></tr>\n",
              "\t<tr><td> 1</td><td> 72</td><td> 97.72059</td><td>0.7367946</td><td> 99.14186</td><td>2.661039</td><td>0.7071449</td><td> 69.01268</td><td> 2.98731671</td><td> 8.924061120</td><td>1.873720e-03</td><td>1.1113886</td></tr>\n",
              "\t<tr><td> 2</td><td>116</td><td>100.19118</td><td>1.1577866</td><td>102.66677</td><td>2.776797</td><td>1.1122387</td><td>113.14258</td><td> 2.85741596</td><td> 8.164825980</td><td>6.378150e-04</td><td>1.2936942</td></tr>\n",
              "\t<tr><td> 3</td><td>136</td><td>102.66176</td><td>1.3247386</td><td>105.33663</td><td>2.762468</td><td>1.2935748</td><td>136.41173</td><td>-0.41172549</td><td> 0.169517877</td><td>9.109868e-06</td><td>0.8885864</td></tr>\n",
              "\t<tr><td> 4</td><td> 96</td><td>105.13235</td><td>0.9131347</td><td>108.07815</td><td>2.759661</td><td>0.8885708</td><td> 96.05539</td><td>-0.05539131</td><td> 0.003068198</td><td>3.325369e-07</td><td>0.7062246</td></tr>\n",
              "\t<tr><td> 5</td><td> 77</td><td>107.60294</td><td>0.7155938</td><td>110.23055</td><td>2.678287</td><td>0.7058709</td><td> 78.27639</td><td>-1.27639147</td><td> 1.629175191</td><td>2.658926e-04</td><td>1.1113886</td></tr>\n",
              "\t<tr><td> 6</td><td>123</td><td>110.07353</td><td>1.1174349</td><td>112.15738</td><td>2.577592</td><td>1.1107117</td><td>125.48559</td><td>-2.48559214</td><td> 6.178168296</td><td>3.923485e-04</td><td>1.2936942</td></tr>\n",
              "\t<tr><td> 7</td><td>146</td><td>112.54412</td><td>1.2972690</td><td>114.10334</td><td>2.492954</td><td>1.2930432</td><td>148.43196</td><td>-2.43196422</td><td> 5.914449972</td><td>2.684476e-04</td><td>0.8885864</td></tr>\n",
              "\t<tr><td> 8</td><td>101</td><td>115.01471</td><td>0.8781486</td><td>115.61093</td><td>2.360915</td><td>0.8878980</td><td>103.60588</td><td>-2.60588180</td><td> 6.790619945</td><td>6.326166e-04</td><td>0.7062246</td></tr>\n",
              "\t<tr><td> 9</td><td> 81</td><td>117.48529</td><td>0.6894480</td><td>116.87062</td><td>2.213351</td><td>0.7056197</td><td> 83.31462</td><td>-2.31462164</td><td> 5.357473352</td><td>7.718227e-04</td><td>1.1113886</td></tr>\n",
              "\t<tr><td>10</td><td>131</td><td>119.95588</td><td>1.0920682</td><td>118.67627</td><td>2.158719</td><td>1.1110415</td><td>132.34857</td><td>-1.34857189</td><td> 1.818646150</td><td>1.038269e-04</td><td>1.2936942</td></tr>\n",
              "\t<tr><td>11</td><td>158</td><td>122.42647</td><td>1.2905706</td><td>121.27040</td><td>2.217065</td><td>1.2941164</td><td>156.32352</td><td> 1.67648213</td><td> 2.810592324</td><td>1.150136e-04</td><td>0.8885864</td></tr>\n",
              "\t<tr><td>12</td><td>109</td><td>124.89706</td><td>0.8727187</td><td>123.21170</td><td>2.180112</td><td>0.8884056</td><td>109.72929</td><td>-0.72928822</td><td> 0.531861308</td><td>4.417263e-05</td><td>0.7062246</td></tr>\n",
              "\t<tr><td>13</td><td> 87</td><td>127.36765</td><td>0.6830620</td><td>124.65210</td><td>2.080990</td><td>0.7058436</td><td> 88.55479</td><td>-1.55478528</td><td> 2.417357266</td><td>3.082597e-04</td><td>1.1113886</td></tr>\n",
              "\t<tr><td>14</td><td>140</td><td>129.83824</td><td>1.0782648</td><td>126.47620</td><td>2.046567</td><td>1.1111834</td><td>140.84971</td><td>-0.84970889</td><td> 0.722005200</td><td>3.639388e-05</td><td>1.2936942</td></tr>\n",
              "\t<tr><td>15</td><td>167</td><td>132.30882</td><td>1.2621985</td><td>128.71258</td><td>2.072002</td><td>1.2938676</td><td>166.26915</td><td> 0.73084631</td><td> 0.534136330</td><td>1.932096e-05</td><td>0.8885864</td></tr>\n",
              "\t<tr><td>16</td><td>120</td><td>134.77941</td><td>0.8903437</td><td>132.21640</td><td>2.263866</td><td>0.8894612</td><td>116.21341</td><td> 3.78659406</td><td>14.338294554</td><td>1.061659e-03</td><td>0.7062246</td></tr>\n",
              "\t<tr><td>17</td><td> 94</td><td>137.25000</td><td>0.6848816</td><td>134.01722</td><td>2.201817</td><td>0.7060028</td><td> 94.97328</td><td>-0.97327502</td><td> 0.947264261</td><td>1.050191e-04</td><td>1.1113886</td></tr>\n",
              "\t<tr><td>18</td><td>147</td><td>139.72059</td><td>1.0520998</td><td>134.89114</td><td>2.023879</td><td>1.1103940</td><td>151.39228</td><td>-4.39228082</td><td>19.292130842</td><td>8.417299e-04</td><td>1.2936942</td></tr>\n",
              "\t<tr><td>19</td><td>177</td><td>142.19118</td><td>1.2448030</td><td>136.88225</td><td>2.019488</td><td>1.2936660</td><td>177.12616</td><td>-0.12616063</td><td> 0.015916504</td><td>5.073203e-07</td><td>0.8885864</td></tr>\n",
              "\t<tr><td>20</td><td>128</td><td>144.66176</td><td>0.8848226</td><td>140.63122</td><td>2.251239</td><td>0.8895798</td><td>123.42620</td><td> 4.57380073</td><td>20.919653083</td><td>1.373219e-03</td><td>0.7062246</td></tr>\n",
              "\t<tr><td>21</td><td>102</td><td>147.13235</td><td>0.6932534</td><td>143.40243</td><td>2.320914</td><td>0.7064574</td><td>100.90711</td><td> 1.09288948</td><td> 1.194407410</td><td>1.173030e-04</td><td>1.1113886</td></tr>\n",
              "\t<tr><td>22</td><td>162</td><td>149.60294</td><td>1.0828664</td><td>145.73687</td><td>2.322727</td><td>1.1113980</td><td>161.95526</td><td> 0.04473909</td><td> 0.002001587</td><td>7.631049e-08</td><td>1.2936942</td></tr>\n",
              "\t<tr><td>23</td><td>191</td><td>152.07353</td><td>1.2559714</td><td>147.91835</td><td>2.303800</td><td>1.2935819</td><td>191.54383</td><td>-0.54383374</td><td> 0.295755132</td><td>8.061130e-06</td><td>0.8885864</td></tr>\n",
              "\t<tr><td>24</td><td>134</td><td>154.54412</td><td>0.8670663</td><td>150.41675</td><td>2.329876</td><td>0.8886909</td><td>133.48536</td><td> 0.51463892</td><td> 0.264853216</td><td>1.486408e-05</td><td>0.7062246</td></tr>\n",
              "\t<tr><td>25</td><td>106</td><td>157.01471</td><td>0.6750960</td><td>151.85531</td><td>2.210440</td><td>0.7058478</td><td>107.87342</td><td>-1.87342345</td><td> 3.509715405</td><td>3.016081e-04</td><td>1.1113886</td></tr>\n",
              "\t<tr><td>26</td><td>170</td><td>159.48529</td><td>1.0659290</td><td>153.69482</td><td>2.160736</td><td>1.1111448</td><td>171.22692</td><td>-1.22691522</td><td> 1.505320952</td><td>5.134345e-05</td><td>1.2936942</td></tr>\n",
              "\t<tr><td>27</td><td>200</td><td>161.95588</td><td>1.2349042</td><td>155.43236</td><td>2.104027</td><td>1.2933740</td><td>201.62942</td><td>-1.62942433</td><td> 2.655023631</td><td>6.530713e-05</td><td>0.8885864</td></tr>\n",
              "\t<tr><td>28</td><td>142</td><td>164.42647</td><td>0.8636079</td><td>158.29843</td><td>2.206141</td><td>0.8889753</td><td>139.98469</td><td> 2.01530609</td><td> 4.061458642</td><td>2.072626e-04</td><td>0.7062246</td></tr>\n",
              "\t<tr><td>29</td><td>115</td><td>166.89706</td><td>0.6890475</td><td>161.28851</td><td>2.311189</td><td>0.7065366</td><td>113.35228</td><td> 1.64772241</td><td> 2.714989129</td><td>2.113039e-04</td><td>1.1113886</td></tr>\n",
              "\t<tr><td>30</td><td>177</td><td>169.36765</td><td>1.0450638</td><td>162.14163</td><td>2.115808</td><td>1.1104801</td><td>181.82284</td><td>-4.82283946</td><td>23.259780472</td><td>7.035723e-04</td><td>1.2936942</td></tr>\n",
              "\t<tr><td>31</td><td>218</td><td>171.83824</td><td>1.2686350</td><td>165.68620</td><td>2.307261</td><td>1.2947083</td><td>212.49890</td><td> 5.50110273</td><td>30.262131241</td><td>6.701718e-04</td><td>0.8885864</td></tr>\n",
              "\t<tr><td>32</td><td>149</td><td>174.30882</td><td>0.8548047</td><td>167.88883</td><td>2.293241</td><td>0.8885361</td><td>149.27671</td><td>-0.27670584</td><td> 0.076566121</td><td>3.435995e-06</td><td>0.7062246</td></tr>\n",
              "</tbody>\n",
              "</table>\n"
            ],
            "text/markdown": "\nA data.frame: 33 × 12\n\n| t &lt;int&gt; | Yt &lt;dbl&gt; | Yest &lt;dbl&gt; | St &lt;dbl&gt; | Lt &lt;dbl&gt; | Bt &lt;dbl&gt; | Snt &lt;dbl&gt; | Pt &lt;dbl&gt; | Et &lt;dbl&gt; | Et2 &lt;dbl&gt; | Ert &lt;dbl&gt; | It &lt;dbl&gt; |\n|---|---|---|---|---|---|---|---|---|---|---|---|\n|  0 |   0 |   0.00000 | 0.0000000 |  95.25000 | 2.470588 | 0.0000000 |   0.00000 |  0.00000000 |  0.000000000 | 0.000000e+00 | 0.7062246 |\n|  1 |  72 |  97.72059 | 0.7367946 |  99.14186 | 2.661039 | 0.7071449 |  69.01268 |  2.98731671 |  8.924061120 | 1.873720e-03 | 1.1113886 |\n|  2 | 116 | 100.19118 | 1.1577866 | 102.66677 | 2.776797 | 1.1122387 | 113.14258 |  2.85741596 |  8.164825980 | 6.378150e-04 | 1.2936942 |\n|  3 | 136 | 102.66176 | 1.3247386 | 105.33663 | 2.762468 | 1.2935748 | 136.41173 | -0.41172549 |  0.169517877 | 9.109868e-06 | 0.8885864 |\n|  4 |  96 | 105.13235 | 0.9131347 | 108.07815 | 2.759661 | 0.8885708 |  96.05539 | -0.05539131 |  0.003068198 | 3.325369e-07 | 0.7062246 |\n|  5 |  77 | 107.60294 | 0.7155938 | 110.23055 | 2.678287 | 0.7058709 |  78.27639 | -1.27639147 |  1.629175191 | 2.658926e-04 | 1.1113886 |\n|  6 | 123 | 110.07353 | 1.1174349 | 112.15738 | 2.577592 | 1.1107117 | 125.48559 | -2.48559214 |  6.178168296 | 3.923485e-04 | 1.2936942 |\n|  7 | 146 | 112.54412 | 1.2972690 | 114.10334 | 2.492954 | 1.2930432 | 148.43196 | -2.43196422 |  5.914449972 | 2.684476e-04 | 0.8885864 |\n|  8 | 101 | 115.01471 | 0.8781486 | 115.61093 | 2.360915 | 0.8878980 | 103.60588 | -2.60588180 |  6.790619945 | 6.326166e-04 | 0.7062246 |\n|  9 |  81 | 117.48529 | 0.6894480 | 116.87062 | 2.213351 | 0.7056197 |  83.31462 | -2.31462164 |  5.357473352 | 7.718227e-04 | 1.1113886 |\n| 10 | 131 | 119.95588 | 1.0920682 | 118.67627 | 2.158719 | 1.1110415 | 132.34857 | -1.34857189 |  1.818646150 | 1.038269e-04 | 1.2936942 |\n| 11 | 158 | 122.42647 | 1.2905706 | 121.27040 | 2.217065 | 1.2941164 | 156.32352 |  1.67648213 |  2.810592324 | 1.150136e-04 | 0.8885864 |\n| 12 | 109 | 124.89706 | 0.8727187 | 123.21170 | 2.180112 | 0.8884056 | 109.72929 | -0.72928822 |  0.531861308 | 4.417263e-05 | 0.7062246 |\n| 13 |  87 | 127.36765 | 0.6830620 | 124.65210 | 2.080990 | 0.7058436 |  88.55479 | -1.55478528 |  2.417357266 | 3.082597e-04 | 1.1113886 |\n| 14 | 140 | 129.83824 | 1.0782648 | 126.47620 | 2.046567 | 1.1111834 | 140.84971 | -0.84970889 |  0.722005200 | 3.639388e-05 | 1.2936942 |\n| 15 | 167 | 132.30882 | 1.2621985 | 128.71258 | 2.072002 | 1.2938676 | 166.26915 |  0.73084631 |  0.534136330 | 1.932096e-05 | 0.8885864 |\n| 16 | 120 | 134.77941 | 0.8903437 | 132.21640 | 2.263866 | 0.8894612 | 116.21341 |  3.78659406 | 14.338294554 | 1.061659e-03 | 0.7062246 |\n| 17 |  94 | 137.25000 | 0.6848816 | 134.01722 | 2.201817 | 0.7060028 |  94.97328 | -0.97327502 |  0.947264261 | 1.050191e-04 | 1.1113886 |\n| 18 | 147 | 139.72059 | 1.0520998 | 134.89114 | 2.023879 | 1.1103940 | 151.39228 | -4.39228082 | 19.292130842 | 8.417299e-04 | 1.2936942 |\n| 19 | 177 | 142.19118 | 1.2448030 | 136.88225 | 2.019488 | 1.2936660 | 177.12616 | -0.12616063 |  0.015916504 | 5.073203e-07 | 0.8885864 |\n| 20 | 128 | 144.66176 | 0.8848226 | 140.63122 | 2.251239 | 0.8895798 | 123.42620 |  4.57380073 | 20.919653083 | 1.373219e-03 | 0.7062246 |\n| 21 | 102 | 147.13235 | 0.6932534 | 143.40243 | 2.320914 | 0.7064574 | 100.90711 |  1.09288948 |  1.194407410 | 1.173030e-04 | 1.1113886 |\n| 22 | 162 | 149.60294 | 1.0828664 | 145.73687 | 2.322727 | 1.1113980 | 161.95526 |  0.04473909 |  0.002001587 | 7.631049e-08 | 1.2936942 |\n| 23 | 191 | 152.07353 | 1.2559714 | 147.91835 | 2.303800 | 1.2935819 | 191.54383 | -0.54383374 |  0.295755132 | 8.061130e-06 | 0.8885864 |\n| 24 | 134 | 154.54412 | 0.8670663 | 150.41675 | 2.329876 | 0.8886909 | 133.48536 |  0.51463892 |  0.264853216 | 1.486408e-05 | 0.7062246 |\n| 25 | 106 | 157.01471 | 0.6750960 | 151.85531 | 2.210440 | 0.7058478 | 107.87342 | -1.87342345 |  3.509715405 | 3.016081e-04 | 1.1113886 |\n| 26 | 170 | 159.48529 | 1.0659290 | 153.69482 | 2.160736 | 1.1111448 | 171.22692 | -1.22691522 |  1.505320952 | 5.134345e-05 | 1.2936942 |\n| 27 | 200 | 161.95588 | 1.2349042 | 155.43236 | 2.104027 | 1.2933740 | 201.62942 | -1.62942433 |  2.655023631 | 6.530713e-05 | 0.8885864 |\n| 28 | 142 | 164.42647 | 0.8636079 | 158.29843 | 2.206141 | 0.8889753 | 139.98469 |  2.01530609 |  4.061458642 | 2.072626e-04 | 0.7062246 |\n| 29 | 115 | 166.89706 | 0.6890475 | 161.28851 | 2.311189 | 0.7065366 | 113.35228 |  1.64772241 |  2.714989129 | 2.113039e-04 | 1.1113886 |\n| 30 | 177 | 169.36765 | 1.0450638 | 162.14163 | 2.115808 | 1.1104801 | 181.82284 | -4.82283946 | 23.259780472 | 7.035723e-04 | 1.2936942 |\n| 31 | 218 | 171.83824 | 1.2686350 | 165.68620 | 2.307261 | 1.2947083 | 212.49890 |  5.50110273 | 30.262131241 | 6.701718e-04 | 0.8885864 |\n| 32 | 149 | 174.30882 | 0.8548047 | 167.88883 | 2.293241 | 0.8885361 | 149.27671 | -0.27670584 |  0.076566121 | 3.435995e-06 | 0.7062246 |\n\n",
            "text/latex": "A data.frame: 33 × 12\n\\begin{tabular}{llllllllllll}\n t & Yt & Yest & St & Lt & Bt & Snt & Pt & Et & Et2 & Ert & It\\\\\n <int> & <dbl> & <dbl> & <dbl> & <dbl> & <dbl> & <dbl> & <dbl> & <dbl> & <dbl> & <dbl> & <dbl>\\\\\n\\hline\n\t  0 &   0 &   0.00000 & 0.0000000 &  95.25000 & 2.470588 & 0.0000000 &   0.00000 &  0.00000000 &  0.000000000 & 0.000000e+00 & 0.7062246\\\\\n\t  1 &  72 &  97.72059 & 0.7367946 &  99.14186 & 2.661039 & 0.7071449 &  69.01268 &  2.98731671 &  8.924061120 & 1.873720e-03 & 1.1113886\\\\\n\t  2 & 116 & 100.19118 & 1.1577866 & 102.66677 & 2.776797 & 1.1122387 & 113.14258 &  2.85741596 &  8.164825980 & 6.378150e-04 & 1.2936942\\\\\n\t  3 & 136 & 102.66176 & 1.3247386 & 105.33663 & 2.762468 & 1.2935748 & 136.41173 & -0.41172549 &  0.169517877 & 9.109868e-06 & 0.8885864\\\\\n\t  4 &  96 & 105.13235 & 0.9131347 & 108.07815 & 2.759661 & 0.8885708 &  96.05539 & -0.05539131 &  0.003068198 & 3.325369e-07 & 0.7062246\\\\\n\t  5 &  77 & 107.60294 & 0.7155938 & 110.23055 & 2.678287 & 0.7058709 &  78.27639 & -1.27639147 &  1.629175191 & 2.658926e-04 & 1.1113886\\\\\n\t  6 & 123 & 110.07353 & 1.1174349 & 112.15738 & 2.577592 & 1.1107117 & 125.48559 & -2.48559214 &  6.178168296 & 3.923485e-04 & 1.2936942\\\\\n\t  7 & 146 & 112.54412 & 1.2972690 & 114.10334 & 2.492954 & 1.2930432 & 148.43196 & -2.43196422 &  5.914449972 & 2.684476e-04 & 0.8885864\\\\\n\t  8 & 101 & 115.01471 & 0.8781486 & 115.61093 & 2.360915 & 0.8878980 & 103.60588 & -2.60588180 &  6.790619945 & 6.326166e-04 & 0.7062246\\\\\n\t  9 &  81 & 117.48529 & 0.6894480 & 116.87062 & 2.213351 & 0.7056197 &  83.31462 & -2.31462164 &  5.357473352 & 7.718227e-04 & 1.1113886\\\\\n\t 10 & 131 & 119.95588 & 1.0920682 & 118.67627 & 2.158719 & 1.1110415 & 132.34857 & -1.34857189 &  1.818646150 & 1.038269e-04 & 1.2936942\\\\\n\t 11 & 158 & 122.42647 & 1.2905706 & 121.27040 & 2.217065 & 1.2941164 & 156.32352 &  1.67648213 &  2.810592324 & 1.150136e-04 & 0.8885864\\\\\n\t 12 & 109 & 124.89706 & 0.8727187 & 123.21170 & 2.180112 & 0.8884056 & 109.72929 & -0.72928822 &  0.531861308 & 4.417263e-05 & 0.7062246\\\\\n\t 13 &  87 & 127.36765 & 0.6830620 & 124.65210 & 2.080990 & 0.7058436 &  88.55479 & -1.55478528 &  2.417357266 & 3.082597e-04 & 1.1113886\\\\\n\t 14 & 140 & 129.83824 & 1.0782648 & 126.47620 & 2.046567 & 1.1111834 & 140.84971 & -0.84970889 &  0.722005200 & 3.639388e-05 & 1.2936942\\\\\n\t 15 & 167 & 132.30882 & 1.2621985 & 128.71258 & 2.072002 & 1.2938676 & 166.26915 &  0.73084631 &  0.534136330 & 1.932096e-05 & 0.8885864\\\\\n\t 16 & 120 & 134.77941 & 0.8903437 & 132.21640 & 2.263866 & 0.8894612 & 116.21341 &  3.78659406 & 14.338294554 & 1.061659e-03 & 0.7062246\\\\\n\t 17 &  94 & 137.25000 & 0.6848816 & 134.01722 & 2.201817 & 0.7060028 &  94.97328 & -0.97327502 &  0.947264261 & 1.050191e-04 & 1.1113886\\\\\n\t 18 & 147 & 139.72059 & 1.0520998 & 134.89114 & 2.023879 & 1.1103940 & 151.39228 & -4.39228082 & 19.292130842 & 8.417299e-04 & 1.2936942\\\\\n\t 19 & 177 & 142.19118 & 1.2448030 & 136.88225 & 2.019488 & 1.2936660 & 177.12616 & -0.12616063 &  0.015916504 & 5.073203e-07 & 0.8885864\\\\\n\t 20 & 128 & 144.66176 & 0.8848226 & 140.63122 & 2.251239 & 0.8895798 & 123.42620 &  4.57380073 & 20.919653083 & 1.373219e-03 & 0.7062246\\\\\n\t 21 & 102 & 147.13235 & 0.6932534 & 143.40243 & 2.320914 & 0.7064574 & 100.90711 &  1.09288948 &  1.194407410 & 1.173030e-04 & 1.1113886\\\\\n\t 22 & 162 & 149.60294 & 1.0828664 & 145.73687 & 2.322727 & 1.1113980 & 161.95526 &  0.04473909 &  0.002001587 & 7.631049e-08 & 1.2936942\\\\\n\t 23 & 191 & 152.07353 & 1.2559714 & 147.91835 & 2.303800 & 1.2935819 & 191.54383 & -0.54383374 &  0.295755132 & 8.061130e-06 & 0.8885864\\\\\n\t 24 & 134 & 154.54412 & 0.8670663 & 150.41675 & 2.329876 & 0.8886909 & 133.48536 &  0.51463892 &  0.264853216 & 1.486408e-05 & 0.7062246\\\\\n\t 25 & 106 & 157.01471 & 0.6750960 & 151.85531 & 2.210440 & 0.7058478 & 107.87342 & -1.87342345 &  3.509715405 & 3.016081e-04 & 1.1113886\\\\\n\t 26 & 170 & 159.48529 & 1.0659290 & 153.69482 & 2.160736 & 1.1111448 & 171.22692 & -1.22691522 &  1.505320952 & 5.134345e-05 & 1.2936942\\\\\n\t 27 & 200 & 161.95588 & 1.2349042 & 155.43236 & 2.104027 & 1.2933740 & 201.62942 & -1.62942433 &  2.655023631 & 6.530713e-05 & 0.8885864\\\\\n\t 28 & 142 & 164.42647 & 0.8636079 & 158.29843 & 2.206141 & 0.8889753 & 139.98469 &  2.01530609 &  4.061458642 & 2.072626e-04 & 0.7062246\\\\\n\t 29 & 115 & 166.89706 & 0.6890475 & 161.28851 & 2.311189 & 0.7065366 & 113.35228 &  1.64772241 &  2.714989129 & 2.113039e-04 & 1.1113886\\\\\n\t 30 & 177 & 169.36765 & 1.0450638 & 162.14163 & 2.115808 & 1.1104801 & 181.82284 & -4.82283946 & 23.259780472 & 7.035723e-04 & 1.2936942\\\\\n\t 31 & 218 & 171.83824 & 1.2686350 & 165.68620 & 2.307261 & 1.2947083 & 212.49890 &  5.50110273 & 30.262131241 & 6.701718e-04 & 0.8885864\\\\\n\t 32 & 149 & 174.30882 & 0.8548047 & 167.88883 & 2.293241 & 0.8885361 & 149.27671 & -0.27670584 &  0.076566121 & 3.435995e-06 & 0.7062246\\\\\n\\end{tabular}\n",
            "text/plain": [
              "   t  Yt  Yest      St        Lt        Bt       Snt       Pt       \n",
              "1   0   0   0.00000 0.0000000  95.25000 2.470588 0.0000000   0.00000\n",
              "2   1  72  97.72059 0.7367946  99.14186 2.661039 0.7071449  69.01268\n",
              "3   2 116 100.19118 1.1577866 102.66677 2.776797 1.1122387 113.14258\n",
              "4   3 136 102.66176 1.3247386 105.33663 2.762468 1.2935748 136.41173\n",
              "5   4  96 105.13235 0.9131347 108.07815 2.759661 0.8885708  96.05539\n",
              "6   5  77 107.60294 0.7155938 110.23055 2.678287 0.7058709  78.27639\n",
              "7   6 123 110.07353 1.1174349 112.15738 2.577592 1.1107117 125.48559\n",
              "8   7 146 112.54412 1.2972690 114.10334 2.492954 1.2930432 148.43196\n",
              "9   8 101 115.01471 0.8781486 115.61093 2.360915 0.8878980 103.60588\n",
              "10  9  81 117.48529 0.6894480 116.87062 2.213351 0.7056197  83.31462\n",
              "11 10 131 119.95588 1.0920682 118.67627 2.158719 1.1110415 132.34857\n",
              "12 11 158 122.42647 1.2905706 121.27040 2.217065 1.2941164 156.32352\n",
              "13 12 109 124.89706 0.8727187 123.21170 2.180112 0.8884056 109.72929\n",
              "14 13  87 127.36765 0.6830620 124.65210 2.080990 0.7058436  88.55479\n",
              "15 14 140 129.83824 1.0782648 126.47620 2.046567 1.1111834 140.84971\n",
              "16 15 167 132.30882 1.2621985 128.71258 2.072002 1.2938676 166.26915\n",
              "17 16 120 134.77941 0.8903437 132.21640 2.263866 0.8894612 116.21341\n",
              "18 17  94 137.25000 0.6848816 134.01722 2.201817 0.7060028  94.97328\n",
              "19 18 147 139.72059 1.0520998 134.89114 2.023879 1.1103940 151.39228\n",
              "20 19 177 142.19118 1.2448030 136.88225 2.019488 1.2936660 177.12616\n",
              "21 20 128 144.66176 0.8848226 140.63122 2.251239 0.8895798 123.42620\n",
              "22 21 102 147.13235 0.6932534 143.40243 2.320914 0.7064574 100.90711\n",
              "23 22 162 149.60294 1.0828664 145.73687 2.322727 1.1113980 161.95526\n",
              "24 23 191 152.07353 1.2559714 147.91835 2.303800 1.2935819 191.54383\n",
              "25 24 134 154.54412 0.8670663 150.41675 2.329876 0.8886909 133.48536\n",
              "26 25 106 157.01471 0.6750960 151.85531 2.210440 0.7058478 107.87342\n",
              "27 26 170 159.48529 1.0659290 153.69482 2.160736 1.1111448 171.22692\n",
              "28 27 200 161.95588 1.2349042 155.43236 2.104027 1.2933740 201.62942\n",
              "29 28 142 164.42647 0.8636079 158.29843 2.206141 0.8889753 139.98469\n",
              "30 29 115 166.89706 0.6890475 161.28851 2.311189 0.7065366 113.35228\n",
              "31 30 177 169.36765 1.0450638 162.14163 2.115808 1.1104801 181.82284\n",
              "32 31 218 171.83824 1.2686350 165.68620 2.307261 1.2947083 212.49890\n",
              "33 32 149 174.30882 0.8548047 167.88883 2.293241 0.8885361 149.27671\n",
              "   Et          Et2          Ert          It       \n",
              "1   0.00000000  0.000000000 0.000000e+00 0.7062246\n",
              "2   2.98731671  8.924061120 1.873720e-03 1.1113886\n",
              "3   2.85741596  8.164825980 6.378150e-04 1.2936942\n",
              "4  -0.41172549  0.169517877 9.109868e-06 0.8885864\n",
              "5  -0.05539131  0.003068198 3.325369e-07 0.7062246\n",
              "6  -1.27639147  1.629175191 2.658926e-04 1.1113886\n",
              "7  -2.48559214  6.178168296 3.923485e-04 1.2936942\n",
              "8  -2.43196422  5.914449972 2.684476e-04 0.8885864\n",
              "9  -2.60588180  6.790619945 6.326166e-04 0.7062246\n",
              "10 -2.31462164  5.357473352 7.718227e-04 1.1113886\n",
              "11 -1.34857189  1.818646150 1.038269e-04 1.2936942\n",
              "12  1.67648213  2.810592324 1.150136e-04 0.8885864\n",
              "13 -0.72928822  0.531861308 4.417263e-05 0.7062246\n",
              "14 -1.55478528  2.417357266 3.082597e-04 1.1113886\n",
              "15 -0.84970889  0.722005200 3.639388e-05 1.2936942\n",
              "16  0.73084631  0.534136330 1.932096e-05 0.8885864\n",
              "17  3.78659406 14.338294554 1.061659e-03 0.7062246\n",
              "18 -0.97327502  0.947264261 1.050191e-04 1.1113886\n",
              "19 -4.39228082 19.292130842 8.417299e-04 1.2936942\n",
              "20 -0.12616063  0.015916504 5.073203e-07 0.8885864\n",
              "21  4.57380073 20.919653083 1.373219e-03 0.7062246\n",
              "22  1.09288948  1.194407410 1.173030e-04 1.1113886\n",
              "23  0.04473909  0.002001587 7.631049e-08 1.2936942\n",
              "24 -0.54383374  0.295755132 8.061130e-06 0.8885864\n",
              "25  0.51463892  0.264853216 1.486408e-05 0.7062246\n",
              "26 -1.87342345  3.509715405 3.016081e-04 1.1113886\n",
              "27 -1.22691522  1.505320952 5.134345e-05 1.2936942\n",
              "28 -1.62942433  2.655023631 6.530713e-05 0.8885864\n",
              "29  2.01530609  4.061458642 2.072626e-04 0.7062246\n",
              "30  1.64772241  2.714989129 2.113039e-04 1.1113886\n",
              "31 -4.82283946 23.259780472 7.035723e-04 1.2936942\n",
              "32  5.50110273 30.262131241 6.701718e-04 0.8885864\n",
              "33 -0.27670584  0.076566121 3.435995e-06 0.7062246"
            ]
          },
          "metadata": {}
        }
      ]
    },
    {
      "cell_type": "markdown",
      "source": [
        "Generar intervalos de prediccion del 95% para $Y_{est}=33,34,35,36$, $Z=1.96$"
      ],
      "metadata": {
        "id": "zadFSGXPvHyf"
      }
    },
    {
      "cell_type": "markdown",
      "source": [
        "Para $Y_{est}=33$ para un intervalo de predicción del 95%"
      ],
      "metadata": {
        "id": "sj5BGp6KvOfI"
      }
    },
    {
      "cell_type": "code",
      "source": [
        "Z<-qnorm(0.975, mean = 0, sd = 1)\n",
        "Yest33<-(Lt[32]+Bt[32])*It[29]\n",
        "Y33i<-Yest33-Z*Sr*sqrt((Lt[32]+Bt[32])^2)*It[29]\n",
        "Y33s<-Yest33+Z*Sr*sqrt((Lt[32]+Bt[32])^2)*It[29]\n",
        "cat(\"Valor Inferior =\",Y33i,\"\\n\")\n",
        "cat(\"Valor Superior =\",Y33s)"
      ],
      "metadata": {
        "colab": {
          "base_uri": "https://localhost:8080/"
        },
        "id": "ZeSY7QO1vXmm",
        "outputId": "39765ec3-7b60-44b9-934f-331e32aecbb0"
      },
      "execution_count": 18,
      "outputs": [
        {
          "output_type": "stream",
          "name": "stdout",
          "text": [
            "Valor Inferior = 113.9214 \n",
            "Valor Superior = 123.3608"
          ]
        }
      ]
    },
    {
      "cell_type": "markdown",
      "source": [
        "Para Yest=34 para un intervalo de predicción del 95%"
      ],
      "metadata": {
        "id": "Lki4cCcEvoFu"
      }
    },
    {
      "cell_type": "code",
      "source": [
        "Yest34<-(Lt[32]+2*Bt[32])*It[30]\n",
        "C2<-(alfa1)^2*(1+delta1)*(Lt[32]+Bt[32])^2+(Lt[32]+2*Bt[32])^2\n",
        "Y34i<-Yest34-Z*Sr*sqrt(C2)*It[30]\n",
        "Y34s<-Yest34+Z*Sr*sqrt(C2)*It[30]\n",
        "cat(\"Valor Inferior =\",Y34i,\"\\n\")\n",
        "cat(\"Valor Superior =\",Y34s)"
      ],
      "metadata": {
        "colab": {
          "base_uri": "https://localhost:8080/"
        },
        "id": "GEPV2hylvr4h",
        "outputId": "342b924c-6761-47cc-d737-909841ef9082"
      },
      "execution_count": 19,
      "outputs": [
        {
          "output_type": "stream",
          "name": "stdout",
          "text": [
            "Valor Inferior = 181.2856 \n",
            "Valor Superior = 197.255"
          ]
        }
      ]
    },
    {
      "cell_type": "markdown",
      "source": [
        "Para Yest=35 para un intervalo de predicción del 95%"
      ],
      "metadata": {
        "id": "4bbVLCpVv48C"
      }
    },
    {
      "cell_type": "code",
      "source": [
        "Yest35<-(Lt[32]+3*Bt[32])*It[31]\n",
        "C3<-(alfa1)^2*(1+delta1)*(Lt[32]+Bt[32])^2+(Lt[32]+3*Bt[32])^2\n",
        "Y35i<-Yest34-Z*Sr*sqrt(C3)*It[31]\n",
        "Y35s<-Yest34+Z*Sr*sqrt(C3)*It[31]\n",
        "cat(\"Valor Inferior =\",Y35i,\"\\n\")\n",
        "cat(\"Valor Superior =\",Y35s)"
      ],
      "metadata": {
        "colab": {
          "base_uri": "https://localhost:8080/"
        },
        "id": "_tYuNGZwv851",
        "outputId": "fd964c6f-e799-48c0-a62b-11ef2a2fa66d"
      },
      "execution_count": 20,
      "outputs": [
        {
          "output_type": "stream",
          "name": "stdout",
          "text": [
            "Valor Inferior = 179.8638 \n",
            "Valor Superior = 198.6768"
          ]
        }
      ]
    },
    {
      "cell_type": "markdown",
      "source": [
        "Para Yest=36 para un intervalo de predicción del 95%"
      ],
      "metadata": {
        "id": "Kfad6YcUwELi"
      }
    },
    {
      "cell_type": "code",
      "source": [
        "Yest36<-(Lt[32]+4*Bt[32])*It[32]\n",
        "C4<-(alfa1)^2*(1+delta1)*(Lt[32]+Bt[32])^2+(Lt[32]+4*Bt[32])^2\n",
        "Y36i<-Yest36-Z*Sr*sqrt(C4)*It[32]\n",
        "Y36s<-Yest36+Z*Sr*sqrt(C4)*It[32]\n",
        "cat(\"Valor Inferior =\",Y36i,\"\\n\")\n",
        "cat(\"Valor Superior =\",Y36s)"
      ],
      "metadata": {
        "colab": {
          "base_uri": "https://localhost:8080/"
        },
        "id": "NgJsZeLVqO6r",
        "outputId": "bb418720-ea57-42f8-a968-c76a080b4004"
      },
      "execution_count": 21,
      "outputs": [
        {
          "output_type": "stream",
          "name": "stdout",
          "text": [
            "Valor Inferior = 148.8893 \n",
            "Valor Superior = 161.9653"
          ]
        }
      ]
    }
  ]
}