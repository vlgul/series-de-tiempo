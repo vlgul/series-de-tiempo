{
  "cells": [
    {
      "cell_type": "markdown",
      "metadata": {
        "id": "view-in-github",
        "colab_type": "text"
      },
      "source": [
        "<a href=\"https://colab.research.google.com/github/vlgul/series-de-tiempo/blob/main/Capitulo_1_Introducci%C3%B3n_a_los_pron%C3%B3sticos.ipynb\" target=\"_parent\"><img src=\"https://colab.research.google.com/assets/colab-badge.svg\" alt=\"Open In Colab\"/></a>"
      ]
    },
    {
      "cell_type": "markdown",
      "metadata": {
        "id": "qDeINO_x6fw3"
      },
      "source": [
        "# **Capítulo 1: Introducción a los pronósticos.**"
      ]
    },
    {
      "cell_type": "code",
      "execution_count": null,
      "metadata": {
        "colab": {
          "base_uri": "https://localhost:8080/",
          "height": 34
        },
        "id": "aWYkTqlEhLL6",
        "outputId": "74c4aab2-c859-463d-8812-9025045c03ba"
      },
      "outputs": [
        {
          "output_type": "display_data",
          "data": {
            "text/html": [
              "1"
            ],
            "text/markdown": "1",
            "text/latex": "1",
            "text/plain": [
              "[1] 1"
            ]
          },
          "metadata": {}
        }
      ],
      "source": [
        "a<-1\n",
        "a"
      ]
    },
    {
      "cell_type": "markdown",
      "source": [
        "Inline equation: $equation$\\"
      ],
      "metadata": {
        "id": "GxytU3RXJhcu"
      }
    }
  ],
  "metadata": {
    "colab": {
      "provenance": [],
      "authorship_tag": "ABX9TyPr+sgzS+iHFazMm9KAhkjp",
      "include_colab_link": true
    },
    "kernelspec": {
      "display_name": "R",
      "name": "ir"
    },
    "language_info": {
      "name": "R"
    }
  },
  "nbformat": 4,
  "nbformat_minor": 0
}